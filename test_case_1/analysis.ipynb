{
 "cells": [
  {
   "cell_type": "code",
   "execution_count": 16,
   "metadata": {},
   "outputs": [],
   "source": [
    "import pandas as pd\n",
    "from scipy.stats import spearmanr"
   ]
  },
  {
   "cell_type": "code",
   "execution_count": 13,
   "metadata": {},
   "outputs": [],
   "source": [
    "cardio_alco = pd.read_csv(r'data/cardio_alco.csv', delimiter=';')\n",
    "cardio_base = pd.read_csv(r'data/cardio_base.csv')\n",
    "covid_data = pd.read_csv(r'data/covid_data.csv')"
   ]
  },
  {
   "cell_type": "code",
   "execution_count": 14,
   "metadata": {},
   "outputs": [
    {
     "data": {
      "text/html": [
       "<div>\n",
       "<style scoped>\n",
       "    .dataframe tbody tr th:only-of-type {\n",
       "        vertical-align: middle;\n",
       "    }\n",
       "\n",
       "    .dataframe tbody tr th {\n",
       "        vertical-align: top;\n",
       "    }\n",
       "\n",
       "    .dataframe thead th {\n",
       "        text-align: right;\n",
       "    }\n",
       "</style>\n",
       "<table border=\"1\" class=\"dataframe\">\n",
       "  <thead>\n",
       "    <tr style=\"text-align: right;\">\n",
       "      <th></th>\n",
       "      <th>id</th>\n",
       "      <th>alco</th>\n",
       "    </tr>\n",
       "  </thead>\n",
       "  <tbody>\n",
       "    <tr>\n",
       "      <th>0</th>\n",
       "      <td>44</td>\n",
       "      <td>0</td>\n",
       "    </tr>\n",
       "    <tr>\n",
       "      <th>1</th>\n",
       "      <td>45</td>\n",
       "      <td>0</td>\n",
       "    </tr>\n",
       "    <tr>\n",
       "      <th>2</th>\n",
       "      <td>46</td>\n",
       "      <td>0</td>\n",
       "    </tr>\n",
       "    <tr>\n",
       "      <th>3</th>\n",
       "      <td>47</td>\n",
       "      <td>0</td>\n",
       "    </tr>\n",
       "    <tr>\n",
       "      <th>4</th>\n",
       "      <td>49</td>\n",
       "      <td>0</td>\n",
       "    </tr>\n",
       "    <tr>\n",
       "      <th>5</th>\n",
       "      <td>51</td>\n",
       "      <td>0</td>\n",
       "    </tr>\n",
       "    <tr>\n",
       "      <th>6</th>\n",
       "      <td>52</td>\n",
       "      <td>0</td>\n",
       "    </tr>\n",
       "    <tr>\n",
       "      <th>7</th>\n",
       "      <td>53</td>\n",
       "      <td>0</td>\n",
       "    </tr>\n",
       "    <tr>\n",
       "      <th>8</th>\n",
       "      <td>54</td>\n",
       "      <td>0</td>\n",
       "    </tr>\n",
       "    <tr>\n",
       "      <th>9</th>\n",
       "      <td>56</td>\n",
       "      <td>0</td>\n",
       "    </tr>\n",
       "  </tbody>\n",
       "</table>\n",
       "</div>"
      ],
      "text/plain": [
       "   id  alco\n",
       "0  44     0\n",
       "1  45     0\n",
       "2  46     0\n",
       "3  47     0\n",
       "4  49     0\n",
       "5  51     0\n",
       "6  52     0\n",
       "7  53     0\n",
       "8  54     0\n",
       "9  56     0"
      ]
     },
     "execution_count": 14,
     "metadata": {},
     "output_type": "execute_result"
    }
   ],
   "source": [
    "cardio_alco.head(10)"
   ]
  },
  {
   "cell_type": "code",
   "execution_count": 11,
   "metadata": {},
   "outputs": [
    {
     "data": {
      "text/html": [
       "<div>\n",
       "<style scoped>\n",
       "    .dataframe tbody tr th:only-of-type {\n",
       "        vertical-align: middle;\n",
       "    }\n",
       "\n",
       "    .dataframe tbody tr th {\n",
       "        vertical-align: top;\n",
       "    }\n",
       "\n",
       "    .dataframe thead th {\n",
       "        text-align: right;\n",
       "    }\n",
       "</style>\n",
       "<table border=\"1\" class=\"dataframe\">\n",
       "  <thead>\n",
       "    <tr style=\"text-align: right;\">\n",
       "      <th></th>\n",
       "      <th>id</th>\n",
       "      <th>age</th>\n",
       "      <th>gender</th>\n",
       "      <th>height</th>\n",
       "      <th>weight</th>\n",
       "      <th>ap_hi</th>\n",
       "      <th>ap_lo</th>\n",
       "      <th>cholesterol</th>\n",
       "      <th>smoke</th>\n",
       "    </tr>\n",
       "  </thead>\n",
       "  <tbody>\n",
       "    <tr>\n",
       "      <th>0</th>\n",
       "      <td>0</td>\n",
       "      <td>18393</td>\n",
       "      <td>2</td>\n",
       "      <td>168</td>\n",
       "      <td>62.0</td>\n",
       "      <td>110</td>\n",
       "      <td>80</td>\n",
       "      <td>1</td>\n",
       "      <td>0</td>\n",
       "    </tr>\n",
       "    <tr>\n",
       "      <th>1</th>\n",
       "      <td>1</td>\n",
       "      <td>20228</td>\n",
       "      <td>1</td>\n",
       "      <td>156</td>\n",
       "      <td>85.0</td>\n",
       "      <td>140</td>\n",
       "      <td>90</td>\n",
       "      <td>3</td>\n",
       "      <td>0</td>\n",
       "    </tr>\n",
       "    <tr>\n",
       "      <th>2</th>\n",
       "      <td>2</td>\n",
       "      <td>18857</td>\n",
       "      <td>1</td>\n",
       "      <td>165</td>\n",
       "      <td>64.0</td>\n",
       "      <td>130</td>\n",
       "      <td>70</td>\n",
       "      <td>3</td>\n",
       "      <td>0</td>\n",
       "    </tr>\n",
       "    <tr>\n",
       "      <th>3</th>\n",
       "      <td>3</td>\n",
       "      <td>17623</td>\n",
       "      <td>2</td>\n",
       "      <td>169</td>\n",
       "      <td>82.0</td>\n",
       "      <td>150</td>\n",
       "      <td>100</td>\n",
       "      <td>1</td>\n",
       "      <td>0</td>\n",
       "    </tr>\n",
       "    <tr>\n",
       "      <th>4</th>\n",
       "      <td>4</td>\n",
       "      <td>17474</td>\n",
       "      <td>1</td>\n",
       "      <td>156</td>\n",
       "      <td>56.0</td>\n",
       "      <td>100</td>\n",
       "      <td>60</td>\n",
       "      <td>1</td>\n",
       "      <td>0</td>\n",
       "    </tr>\n",
       "    <tr>\n",
       "      <th>5</th>\n",
       "      <td>8</td>\n",
       "      <td>21914</td>\n",
       "      <td>1</td>\n",
       "      <td>151</td>\n",
       "      <td>67.0</td>\n",
       "      <td>120</td>\n",
       "      <td>80</td>\n",
       "      <td>2</td>\n",
       "      <td>0</td>\n",
       "    </tr>\n",
       "    <tr>\n",
       "      <th>6</th>\n",
       "      <td>9</td>\n",
       "      <td>22113</td>\n",
       "      <td>1</td>\n",
       "      <td>157</td>\n",
       "      <td>93.0</td>\n",
       "      <td>130</td>\n",
       "      <td>80</td>\n",
       "      <td>3</td>\n",
       "      <td>0</td>\n",
       "    </tr>\n",
       "    <tr>\n",
       "      <th>7</th>\n",
       "      <td>12</td>\n",
       "      <td>22584</td>\n",
       "      <td>2</td>\n",
       "      <td>178</td>\n",
       "      <td>95.0</td>\n",
       "      <td>130</td>\n",
       "      <td>90</td>\n",
       "      <td>3</td>\n",
       "      <td>0</td>\n",
       "    </tr>\n",
       "    <tr>\n",
       "      <th>8</th>\n",
       "      <td>13</td>\n",
       "      <td>17668</td>\n",
       "      <td>1</td>\n",
       "      <td>158</td>\n",
       "      <td>71.0</td>\n",
       "      <td>110</td>\n",
       "      <td>70</td>\n",
       "      <td>1</td>\n",
       "      <td>0</td>\n",
       "    </tr>\n",
       "    <tr>\n",
       "      <th>9</th>\n",
       "      <td>14</td>\n",
       "      <td>19834</td>\n",
       "      <td>1</td>\n",
       "      <td>164</td>\n",
       "      <td>68.0</td>\n",
       "      <td>110</td>\n",
       "      <td>60</td>\n",
       "      <td>1</td>\n",
       "      <td>0</td>\n",
       "    </tr>\n",
       "  </tbody>\n",
       "</table>\n",
       "</div>"
      ],
      "text/plain": [
       "   id    age  gender  height  weight  ap_hi  ap_lo  cholesterol  smoke\n",
       "0   0  18393       2     168    62.0    110     80            1      0\n",
       "1   1  20228       1     156    85.0    140     90            3      0\n",
       "2   2  18857       1     165    64.0    130     70            3      0\n",
       "3   3  17623       2     169    82.0    150    100            1      0\n",
       "4   4  17474       1     156    56.0    100     60            1      0\n",
       "5   8  21914       1     151    67.0    120     80            2      0\n",
       "6   9  22113       1     157    93.0    130     80            3      0\n",
       "7  12  22584       2     178    95.0    130     90            3      0\n",
       "8  13  17668       1     158    71.0    110     70            1      0\n",
       "9  14  19834       1     164    68.0    110     60            1      0"
      ]
     },
     "execution_count": 11,
     "metadata": {},
     "output_type": "execute_result"
    }
   ],
   "source": [
    "cardio_base.head(10)"
   ]
  },
  {
   "cell_type": "code",
   "execution_count": 12,
   "metadata": {},
   "outputs": [
    {
     "data": {
      "text/html": [
       "<div>\n",
       "<style scoped>\n",
       "    .dataframe tbody tr th:only-of-type {\n",
       "        vertical-align: middle;\n",
       "    }\n",
       "\n",
       "    .dataframe tbody tr th {\n",
       "        vertical-align: top;\n",
       "    }\n",
       "\n",
       "    .dataframe thead th {\n",
       "        text-align: right;\n",
       "    }\n",
       "</style>\n",
       "<table border=\"1\" class=\"dataframe\">\n",
       "  <thead>\n",
       "    <tr style=\"text-align: right;\">\n",
       "      <th></th>\n",
       "      <th>location</th>\n",
       "      <th>date</th>\n",
       "      <th>new_cases</th>\n",
       "      <th>new_deaths</th>\n",
       "      <th>population</th>\n",
       "      <th>aged_65_older_percent</th>\n",
       "      <th>gdp_per_capita</th>\n",
       "      <th>hospital_beds_per_thousand</th>\n",
       "    </tr>\n",
       "  </thead>\n",
       "  <tbody>\n",
       "    <tr>\n",
       "      <th>0</th>\n",
       "      <td>Afghanistan</td>\n",
       "      <td>2019-12-31</td>\n",
       "      <td>0</td>\n",
       "      <td>0</td>\n",
       "      <td>38928341.0</td>\n",
       "      <td>2.581</td>\n",
       "      <td>1803.987</td>\n",
       "      <td>0.5</td>\n",
       "    </tr>\n",
       "    <tr>\n",
       "      <th>1</th>\n",
       "      <td>Afghanistan</td>\n",
       "      <td>2020-01-01</td>\n",
       "      <td>0</td>\n",
       "      <td>0</td>\n",
       "      <td>38928341.0</td>\n",
       "      <td>2.581</td>\n",
       "      <td>1803.987</td>\n",
       "      <td>0.5</td>\n",
       "    </tr>\n",
       "    <tr>\n",
       "      <th>2</th>\n",
       "      <td>Afghanistan</td>\n",
       "      <td>2020-01-02</td>\n",
       "      <td>0</td>\n",
       "      <td>0</td>\n",
       "      <td>38928341.0</td>\n",
       "      <td>2.581</td>\n",
       "      <td>1803.987</td>\n",
       "      <td>0.5</td>\n",
       "    </tr>\n",
       "    <tr>\n",
       "      <th>3</th>\n",
       "      <td>Afghanistan</td>\n",
       "      <td>2020-01-03</td>\n",
       "      <td>0</td>\n",
       "      <td>0</td>\n",
       "      <td>38928341.0</td>\n",
       "      <td>2.581</td>\n",
       "      <td>1803.987</td>\n",
       "      <td>0.5</td>\n",
       "    </tr>\n",
       "    <tr>\n",
       "      <th>4</th>\n",
       "      <td>Afghanistan</td>\n",
       "      <td>2020-01-04</td>\n",
       "      <td>0</td>\n",
       "      <td>0</td>\n",
       "      <td>38928341.0</td>\n",
       "      <td>2.581</td>\n",
       "      <td>1803.987</td>\n",
       "      <td>0.5</td>\n",
       "    </tr>\n",
       "    <tr>\n",
       "      <th>5</th>\n",
       "      <td>Afghanistan</td>\n",
       "      <td>2020-01-05</td>\n",
       "      <td>0</td>\n",
       "      <td>0</td>\n",
       "      <td>38928341.0</td>\n",
       "      <td>2.581</td>\n",
       "      <td>1803.987</td>\n",
       "      <td>0.5</td>\n",
       "    </tr>\n",
       "    <tr>\n",
       "      <th>6</th>\n",
       "      <td>Afghanistan</td>\n",
       "      <td>2020-01-06</td>\n",
       "      <td>0</td>\n",
       "      <td>0</td>\n",
       "      <td>38928341.0</td>\n",
       "      <td>2.581</td>\n",
       "      <td>1803.987</td>\n",
       "      <td>0.5</td>\n",
       "    </tr>\n",
       "    <tr>\n",
       "      <th>7</th>\n",
       "      <td>Afghanistan</td>\n",
       "      <td>2020-01-07</td>\n",
       "      <td>0</td>\n",
       "      <td>0</td>\n",
       "      <td>38928341.0</td>\n",
       "      <td>2.581</td>\n",
       "      <td>1803.987</td>\n",
       "      <td>0.5</td>\n",
       "    </tr>\n",
       "    <tr>\n",
       "      <th>8</th>\n",
       "      <td>Afghanistan</td>\n",
       "      <td>2020-01-08</td>\n",
       "      <td>0</td>\n",
       "      <td>0</td>\n",
       "      <td>38928341.0</td>\n",
       "      <td>2.581</td>\n",
       "      <td>1803.987</td>\n",
       "      <td>0.5</td>\n",
       "    </tr>\n",
       "    <tr>\n",
       "      <th>9</th>\n",
       "      <td>Afghanistan</td>\n",
       "      <td>2020-01-09</td>\n",
       "      <td>0</td>\n",
       "      <td>0</td>\n",
       "      <td>38928341.0</td>\n",
       "      <td>2.581</td>\n",
       "      <td>1803.987</td>\n",
       "      <td>0.5</td>\n",
       "    </tr>\n",
       "  </tbody>\n",
       "</table>\n",
       "</div>"
      ],
      "text/plain": [
       "      location        date  new_cases  new_deaths  population  \\\n",
       "0  Afghanistan  2019-12-31          0           0  38928341.0   \n",
       "1  Afghanistan  2020-01-01          0           0  38928341.0   \n",
       "2  Afghanistan  2020-01-02          0           0  38928341.0   \n",
       "3  Afghanistan  2020-01-03          0           0  38928341.0   \n",
       "4  Afghanistan  2020-01-04          0           0  38928341.0   \n",
       "5  Afghanistan  2020-01-05          0           0  38928341.0   \n",
       "6  Afghanistan  2020-01-06          0           0  38928341.0   \n",
       "7  Afghanistan  2020-01-07          0           0  38928341.0   \n",
       "8  Afghanistan  2020-01-08          0           0  38928341.0   \n",
       "9  Afghanistan  2020-01-09          0           0  38928341.0   \n",
       "\n",
       "   aged_65_older_percent  gdp_per_capita  hospital_beds_per_thousand  \n",
       "0                  2.581        1803.987                         0.5  \n",
       "1                  2.581        1803.987                         0.5  \n",
       "2                  2.581        1803.987                         0.5  \n",
       "3                  2.581        1803.987                         0.5  \n",
       "4                  2.581        1803.987                         0.5  \n",
       "5                  2.581        1803.987                         0.5  \n",
       "6                  2.581        1803.987                         0.5  \n",
       "7                  2.581        1803.987                         0.5  \n",
       "8                  2.581        1803.987                         0.5  \n",
       "9                  2.581        1803.987                         0.5  "
      ]
     },
     "execution_count": 12,
     "metadata": {},
     "output_type": "execute_result"
    }
   ],
   "source": [
    "covid_data.head(10)"
   ]
  },
  {
   "attachments": {},
   "cell_type": "markdown",
   "metadata": {},
   "source": [
    "# Calculating spearman correlation rank"
   ]
  },
  {
   "cell_type": "code",
   "execution_count": 18,
   "metadata": {},
   "outputs": [],
   "source": [
    "spearman_corr = cardio_base.corr(method='spearman')"
   ]
  },
  {
   "cell_type": "code",
   "execution_count": 23,
   "metadata": {},
   "outputs": [
    {
     "data": {
      "text/plain": [
       "0.06155893830937044"
      ]
     },
     "execution_count": 23,
     "metadata": {},
     "output_type": "execute_result"
    }
   ],
   "source": [
    "spearman_corr['age']['weight']"
   ]
  },
  {
   "cell_type": "code",
   "execution_count": 26,
   "metadata": {},
   "outputs": [
    {
     "data": {
      "text/plain": [
       "0.21908652588163743"
      ]
     },
     "execution_count": 26,
     "metadata": {},
     "output_type": "execute_result"
    }
   ],
   "source": [
    "spearman_corr['age']['ap_hi']"
   ]
  },
  {
   "cell_type": "code",
   "execution_count": 27,
   "metadata": {},
   "outputs": [
    {
     "data": {
      "text/plain": [
       "0.15669952606369209"
      ]
     },
     "execution_count": 27,
     "metadata": {},
     "output_type": "execute_result"
    }
   ],
   "source": [
    "spearman_corr['age']['ap_lo']"
   ]
  },
  {
   "cell_type": "code",
   "execution_count": 28,
   "metadata": {},
   "outputs": [
    {
     "data": {
      "text/plain": [
       "0.7354361051379777"
      ]
     },
     "execution_count": 28,
     "metadata": {},
     "output_type": "execute_result"
    }
   ],
   "source": [
    "spearman_corr['ap_hi']['ap_lo']"
   ]
  },
  {
   "cell_type": "code",
   "execution_count": 30,
   "metadata": {},
   "outputs": [
    {
     "data": {
      "text/plain": [
       "0.5338045129524459"
      ]
     },
     "execution_count": 30,
     "metadata": {},
     "output_type": "execute_result"
    }
   ],
   "source": [
    "spearman_corr['gender']['height']"
   ]
  },
  {
   "attachments": {},
   "cell_type": "markdown",
   "metadata": {},
   "source": [
    "# Percentage of the population over 50 years cumnsuming alcohol"
   ]
  },
  {
   "cell_type": "code",
   "execution_count": 33,
   "metadata": {},
   "outputs": [],
   "source": [
    "cardio_merged = pd.merge(cardio_base, cardio_alco, how='inner')"
   ]
  },
  {
   "cell_type": "code",
   "execution_count": 36,
   "metadata": {},
   "outputs": [],
   "source": [
    "cardio_merged['age_years'] = cardio_merged['age']/365"
   ]
  },
  {
   "cell_type": "code",
   "execution_count": 51,
   "metadata": {},
   "outputs": [
    {
     "data": {
      "text/plain": [
       "4.954806694179305"
      ]
     },
     "execution_count": 51,
     "metadata": {},
     "output_type": "execute_result"
    }
   ],
   "source": [
    "100 * cardio_merged[(cardio_merged['age_years'] > 50) & (cardio_merged['alco'] == 1)].size/cardio_merged[cardio_merged['age_years'] > 50].size"
   ]
  },
  {
   "attachments": {},
   "cell_type": "markdown",
   "metadata": {},
   "source": [
    "### Calculate F1 score for statement that countries where more than 20% of the population is over 65 years old, have death rate over 50 per milliom inhabitants"
   ]
  },
  {
   "cell_type": "code",
   "execution_count": 53,
   "metadata": {},
   "outputs": [],
   "source": [
    "from sklearn.metrics import f1_score"
   ]
  },
  {
   "cell_type": "code",
   "execution_count": 67,
   "metadata": {},
   "outputs": [
    {
     "data": {
      "text/html": [
       "<div>\n",
       "<style scoped>\n",
       "    .dataframe tbody tr th:only-of-type {\n",
       "        vertical-align: middle;\n",
       "    }\n",
       "\n",
       "    .dataframe tbody tr th {\n",
       "        vertical-align: top;\n",
       "    }\n",
       "\n",
       "    .dataframe thead th {\n",
       "        text-align: right;\n",
       "    }\n",
       "</style>\n",
       "<table border=\"1\" class=\"dataframe\">\n",
       "  <thead>\n",
       "    <tr style=\"text-align: right;\">\n",
       "      <th></th>\n",
       "      <th>location</th>\n",
       "      <th>date</th>\n",
       "      <th>new_cases</th>\n",
       "      <th>new_deaths</th>\n",
       "      <th>population</th>\n",
       "      <th>aged_65_older_percent</th>\n",
       "      <th>gdp_per_capita</th>\n",
       "      <th>hospital_beds_per_thousand</th>\n",
       "    </tr>\n",
       "  </thead>\n",
       "  <tbody>\n",
       "    <tr>\n",
       "      <th>21077</th>\n",
       "      <td>Tunisia</td>\n",
       "      <td>2020-03-11</td>\n",
       "      <td>3</td>\n",
       "      <td>0</td>\n",
       "      <td>11818618.0</td>\n",
       "      <td>8.001</td>\n",
       "      <td>10849.297</td>\n",
       "      <td>2.30</td>\n",
       "    </tr>\n",
       "    <tr>\n",
       "      <th>7661</th>\n",
       "      <td>Gabon</td>\n",
       "      <td>2020-06-03</td>\n",
       "      <td>148</td>\n",
       "      <td>3</td>\n",
       "      <td>2225728.0</td>\n",
       "      <td>4.450</td>\n",
       "      <td>16562.413</td>\n",
       "      <td>6.30</td>\n",
       "    </tr>\n",
       "    <tr>\n",
       "      <th>1113</th>\n",
       "      <td>Australia</td>\n",
       "      <td>2020-02-18</td>\n",
       "      <td>0</td>\n",
       "      <td>0</td>\n",
       "      <td>25499881.0</td>\n",
       "      <td>15.504</td>\n",
       "      <td>44648.710</td>\n",
       "      <td>3.84</td>\n",
       "    </tr>\n",
       "    <tr>\n",
       "      <th>20331</th>\n",
       "      <td>Syria</td>\n",
       "      <td>2020-05-03</td>\n",
       "      <td>0</td>\n",
       "      <td>0</td>\n",
       "      <td>17500657.0</td>\n",
       "      <td>NaN</td>\n",
       "      <td>NaN</td>\n",
       "      <td>1.50</td>\n",
       "    </tr>\n",
       "    <tr>\n",
       "      <th>8714</th>\n",
       "      <td>Guatemala</td>\n",
       "      <td>2020-05-09</td>\n",
       "      <td>68</td>\n",
       "      <td>1</td>\n",
       "      <td>17915567.0</td>\n",
       "      <td>4.694</td>\n",
       "      <td>7423.808</td>\n",
       "      <td>0.60</td>\n",
       "    </tr>\n",
       "  </tbody>\n",
       "</table>\n",
       "</div>"
      ],
      "text/plain": [
       "        location        date  new_cases  new_deaths  population  \\\n",
       "21077    Tunisia  2020-03-11          3           0  11818618.0   \n",
       "7661       Gabon  2020-06-03        148           3   2225728.0   \n",
       "1113   Australia  2020-02-18          0           0  25499881.0   \n",
       "20331      Syria  2020-05-03          0           0  17500657.0   \n",
       "8714   Guatemala  2020-05-09         68           1  17915567.0   \n",
       "\n",
       "       aged_65_older_percent  gdp_per_capita  hospital_beds_per_thousand  \n",
       "21077                  8.001       10849.297                        2.30  \n",
       "7661                   4.450       16562.413                        6.30  \n",
       "1113                  15.504       44648.710                        3.84  \n",
       "20331                    NaN             NaN                        1.50  \n",
       "8714                   4.694        7423.808                        0.60  "
      ]
     },
     "execution_count": 67,
     "metadata": {},
     "output_type": "execute_result"
    }
   ],
   "source": [
    "covid_data.sample(5)"
   ]
  },
  {
   "attachments": {},
   "cell_type": "markdown",
   "metadata": {},
   "source": [
    "get the latest population and aged_65_older_percent for each location"
   ]
  },
  {
   "cell_type": "code",
   "execution_count": 78,
   "metadata": {},
   "outputs": [],
   "source": [
    "covid_data_latest = covid_data.sort_values('date', ascending=False).groupby('location', as_index=False).apply(lambda x: x.iloc[0])"
   ]
  },
  {
   "cell_type": "code",
   "execution_count": 81,
   "metadata": {},
   "outputs": [
    {
     "data": {
      "text/html": [
       "<div>\n",
       "<style scoped>\n",
       "    .dataframe tbody tr th:only-of-type {\n",
       "        vertical-align: middle;\n",
       "    }\n",
       "\n",
       "    .dataframe tbody tr th {\n",
       "        vertical-align: top;\n",
       "    }\n",
       "\n",
       "    .dataframe thead th {\n",
       "        text-align: right;\n",
       "    }\n",
       "</style>\n",
       "<table border=\"1\" class=\"dataframe\">\n",
       "  <thead>\n",
       "    <tr style=\"text-align: right;\">\n",
       "      <th></th>\n",
       "      <th>location</th>\n",
       "      <th>date</th>\n",
       "      <th>new_cases</th>\n",
       "      <th>new_deaths</th>\n",
       "      <th>population</th>\n",
       "      <th>aged_65_older_percent</th>\n",
       "      <th>gdp_per_capita</th>\n",
       "      <th>hospital_beds_per_thousand</th>\n",
       "    </tr>\n",
       "  </thead>\n",
       "  <tbody>\n",
       "    <tr>\n",
       "      <th>151</th>\n",
       "      <td>Peru</td>\n",
       "      <td>2020-06-10</td>\n",
       "      <td>4040</td>\n",
       "      <td>167</td>\n",
       "      <td>32971846.0</td>\n",
       "      <td>7.151</td>\n",
       "      <td>12236.706</td>\n",
       "      <td>1.60</td>\n",
       "    </tr>\n",
       "    <tr>\n",
       "      <th>179</th>\n",
       "      <td>Sri Lanka</td>\n",
       "      <td>2020-06-10</td>\n",
       "      <td>2</td>\n",
       "      <td>0</td>\n",
       "      <td>21413250.0</td>\n",
       "      <td>10.069</td>\n",
       "      <td>11669.077</td>\n",
       "      <td>3.60</td>\n",
       "    </tr>\n",
       "    <tr>\n",
       "      <th>154</th>\n",
       "      <td>Portugal</td>\n",
       "      <td>2020-06-10</td>\n",
       "      <td>421</td>\n",
       "      <td>7</td>\n",
       "      <td>10196707.0</td>\n",
       "      <td>21.502</td>\n",
       "      <td>27936.896</td>\n",
       "      <td>3.39</td>\n",
       "    </tr>\n",
       "    <tr>\n",
       "      <th>45</th>\n",
       "      <td>Costa Rica</td>\n",
       "      <td>2020-06-10</td>\n",
       "      <td>33</td>\n",
       "      <td>1</td>\n",
       "      <td>5094114.0</td>\n",
       "      <td>9.468</td>\n",
       "      <td>15524.995</td>\n",
       "      <td>1.13</td>\n",
       "    </tr>\n",
       "    <tr>\n",
       "      <th>80</th>\n",
       "      <td>Guatemala</td>\n",
       "      <td>2020-06-10</td>\n",
       "      <td>364</td>\n",
       "      <td>22</td>\n",
       "      <td>17915567.0</td>\n",
       "      <td>4.694</td>\n",
       "      <td>7423.808</td>\n",
       "      <td>0.60</td>\n",
       "    </tr>\n",
       "  </tbody>\n",
       "</table>\n",
       "</div>"
      ],
      "text/plain": [
       "       location        date  new_cases  new_deaths  population  \\\n",
       "151        Peru  2020-06-10       4040         167  32971846.0   \n",
       "179   Sri Lanka  2020-06-10          2           0  21413250.0   \n",
       "154    Portugal  2020-06-10        421           7  10196707.0   \n",
       "45   Costa Rica  2020-06-10         33           1   5094114.0   \n",
       "80    Guatemala  2020-06-10        364          22  17915567.0   \n",
       "\n",
       "     aged_65_older_percent  gdp_per_capita  hospital_beds_per_thousand  \n",
       "151                  7.151       12236.706                        1.60  \n",
       "179                 10.069       11669.077                        3.60  \n",
       "154                 21.502       27936.896                        3.39  \n",
       "45                   9.468       15524.995                        1.13  \n",
       "80                   4.694        7423.808                        0.60  "
      ]
     },
     "execution_count": 81,
     "metadata": {},
     "output_type": "execute_result"
    }
   ],
   "source": [
    "covid_data_latest.sample(5)"
   ]
  },
  {
   "cell_type": "code",
   "execution_count": 87,
   "metadata": {},
   "outputs": [],
   "source": [
    "covid_aged_65_over_20p = covid_data_latest[covid_data_latest['aged_65_older_percent'] > 20]"
   ]
  },
  {
   "cell_type": "markdown",
   "metadata": {},
   "source": [
    "get the total number of deaths for the entire period for each location\n"
   ]
  },
  {
   "cell_type": "code",
   "execution_count": 79,
   "metadata": {},
   "outputs": [],
   "source": [
    "covid_data_deaths = covid_data.groupby(by=['location'], as_index=False).sum()[['location', 'new_deaths']]"
   ]
  },
  {
   "cell_type": "code",
   "execution_count": 82,
   "metadata": {},
   "outputs": [
    {
     "data": {
      "text/html": [
       "<div>\n",
       "<style scoped>\n",
       "    .dataframe tbody tr th:only-of-type {\n",
       "        vertical-align: middle;\n",
       "    }\n",
       "\n",
       "    .dataframe tbody tr th {\n",
       "        vertical-align: top;\n",
       "    }\n",
       "\n",
       "    .dataframe thead th {\n",
       "        text-align: right;\n",
       "    }\n",
       "</style>\n",
       "<table border=\"1\" class=\"dataframe\">\n",
       "  <thead>\n",
       "    <tr style=\"text-align: right;\">\n",
       "      <th></th>\n",
       "      <th>location</th>\n",
       "      <th>new_deaths</th>\n",
       "    </tr>\n",
       "  </thead>\n",
       "  <tbody>\n",
       "    <tr>\n",
       "      <th>119</th>\n",
       "      <td>Malawi</td>\n",
       "      <td>4</td>\n",
       "    </tr>\n",
       "    <tr>\n",
       "      <th>89</th>\n",
       "      <td>Iceland</td>\n",
       "      <td>10</td>\n",
       "    </tr>\n",
       "    <tr>\n",
       "      <th>200</th>\n",
       "      <td>United States</td>\n",
       "      <td>112006</td>\n",
       "    </tr>\n",
       "    <tr>\n",
       "      <th>25</th>\n",
       "      <td>Bosnia and Herzegovina</td>\n",
       "      <td>159</td>\n",
       "    </tr>\n",
       "    <tr>\n",
       "      <th>59</th>\n",
       "      <td>El Salvador</td>\n",
       "      <td>60</td>\n",
       "    </tr>\n",
       "  </tbody>\n",
       "</table>\n",
       "</div>"
      ],
      "text/plain": [
       "                   location  new_deaths\n",
       "119                  Malawi           4\n",
       "89                  Iceland          10\n",
       "200           United States      112006\n",
       "25   Bosnia and Herzegovina         159\n",
       "59              El Salvador          60"
      ]
     },
     "execution_count": 82,
     "metadata": {},
     "output_type": "execute_result"
    }
   ],
   "source": [
    "covid_data_deaths.sample(5)"
   ]
  },
  {
   "attachments": {},
   "cell_type": "markdown",
   "metadata": {},
   "source": [
    "merge datasets"
   ]
  },
  {
   "cell_type": "code",
   "execution_count": 89,
   "metadata": {},
   "outputs": [],
   "source": [
    "covid_data_merged = pd.merge(covid_data_deaths, covid_aged_65_over_20p, on='location', how='inner')"
   ]
  },
  {
   "cell_type": "code",
   "execution_count": 95,
   "metadata": {},
   "outputs": [
    {
     "data": {
      "text/html": [
       "<div>\n",
       "<style scoped>\n",
       "    .dataframe tbody tr th:only-of-type {\n",
       "        vertical-align: middle;\n",
       "    }\n",
       "\n",
       "    .dataframe tbody tr th {\n",
       "        vertical-align: top;\n",
       "    }\n",
       "\n",
       "    .dataframe thead th {\n",
       "        text-align: right;\n",
       "    }\n",
       "</style>\n",
       "<table border=\"1\" class=\"dataframe\">\n",
       "  <thead>\n",
       "    <tr style=\"text-align: right;\">\n",
       "      <th></th>\n",
       "      <th>location</th>\n",
       "      <th>new_deaths_x</th>\n",
       "      <th>date</th>\n",
       "      <th>new_cases</th>\n",
       "      <th>new_deaths_y</th>\n",
       "      <th>population</th>\n",
       "      <th>aged_65_older_percent</th>\n",
       "      <th>gdp_per_capita</th>\n",
       "      <th>hospital_beds_per_thousand</th>\n",
       "    </tr>\n",
       "  </thead>\n",
       "  <tbody>\n",
       "    <tr>\n",
       "      <th>0</th>\n",
       "      <td>Bulgaria</td>\n",
       "      <td>167</td>\n",
       "      <td>2020-06-10</td>\n",
       "      <td>79</td>\n",
       "      <td>3</td>\n",
       "      <td>6948445.0</td>\n",
       "      <td>20.801</td>\n",
       "      <td>18563.307</td>\n",
       "      <td>7.454</td>\n",
       "    </tr>\n",
       "    <tr>\n",
       "      <th>1</th>\n",
       "      <td>Finland</td>\n",
       "      <td>324</td>\n",
       "      <td>2020-06-10</td>\n",
       "      <td>24</td>\n",
       "      <td>1</td>\n",
       "      <td>5540718.0</td>\n",
       "      <td>21.228</td>\n",
       "      <td>40585.721</td>\n",
       "      <td>3.280</td>\n",
       "    </tr>\n",
       "    <tr>\n",
       "      <th>2</th>\n",
       "      <td>Germany</td>\n",
       "      <td>8729</td>\n",
       "      <td>2020-06-10</td>\n",
       "      <td>318</td>\n",
       "      <td>18</td>\n",
       "      <td>83783945.0</td>\n",
       "      <td>21.453</td>\n",
       "      <td>45229.245</td>\n",
       "      <td>8.000</td>\n",
       "    </tr>\n",
       "    <tr>\n",
       "      <th>3</th>\n",
       "      <td>Greece</td>\n",
       "      <td>183</td>\n",
       "      <td>2020-06-10</td>\n",
       "      <td>9</td>\n",
       "      <td>1</td>\n",
       "      <td>10423056.0</td>\n",
       "      <td>20.396</td>\n",
       "      <td>24574.382</td>\n",
       "      <td>4.210</td>\n",
       "    </tr>\n",
       "    <tr>\n",
       "      <th>4</th>\n",
       "      <td>Italy</td>\n",
       "      <td>34043</td>\n",
       "      <td>2020-06-10</td>\n",
       "      <td>283</td>\n",
       "      <td>79</td>\n",
       "      <td>60461828.0</td>\n",
       "      <td>23.021</td>\n",
       "      <td>35220.084</td>\n",
       "      <td>3.180</td>\n",
       "    </tr>\n",
       "    <tr>\n",
       "      <th>5</th>\n",
       "      <td>Japan</td>\n",
       "      <td>919</td>\n",
       "      <td>2020-06-10</td>\n",
       "      <td>41</td>\n",
       "      <td>3</td>\n",
       "      <td>126476458.0</td>\n",
       "      <td>27.049</td>\n",
       "      <td>39002.223</td>\n",
       "      <td>13.050</td>\n",
       "    </tr>\n",
       "    <tr>\n",
       "      <th>6</th>\n",
       "      <td>Portugal</td>\n",
       "      <td>1492</td>\n",
       "      <td>2020-06-10</td>\n",
       "      <td>421</td>\n",
       "      <td>7</td>\n",
       "      <td>10196707.0</td>\n",
       "      <td>21.502</td>\n",
       "      <td>27936.896</td>\n",
       "      <td>3.390</td>\n",
       "    </tr>\n",
       "  </tbody>\n",
       "</table>\n",
       "</div>"
      ],
      "text/plain": [
       "   location  new_deaths_x        date  new_cases  new_deaths_y   population  \\\n",
       "0  Bulgaria           167  2020-06-10         79             3    6948445.0   \n",
       "1   Finland           324  2020-06-10         24             1    5540718.0   \n",
       "2   Germany          8729  2020-06-10        318            18   83783945.0   \n",
       "3    Greece           183  2020-06-10          9             1   10423056.0   \n",
       "4     Italy         34043  2020-06-10        283            79   60461828.0   \n",
       "5     Japan           919  2020-06-10         41             3  126476458.0   \n",
       "6  Portugal          1492  2020-06-10        421             7   10196707.0   \n",
       "\n",
       "   aged_65_older_percent  gdp_per_capita  hospital_beds_per_thousand  \n",
       "0                 20.801       18563.307                       7.454  \n",
       "1                 21.228       40585.721                       3.280  \n",
       "2                 21.453       45229.245                       8.000  \n",
       "3                 20.396       24574.382                       4.210  \n",
       "4                 23.021       35220.084                       3.180  \n",
       "5                 27.049       39002.223                      13.050  \n",
       "6                 21.502       27936.896                       3.390  "
      ]
     },
     "execution_count": 95,
     "metadata": {},
     "output_type": "execute_result"
    }
   ],
   "source": [
    "covid_data_merged"
   ]
  },
  {
   "cell_type": "code",
   "execution_count": 91,
   "metadata": {},
   "outputs": [
    {
     "data": {
      "text/html": [
       "<div>\n",
       "<style scoped>\n",
       "    .dataframe tbody tr th:only-of-type {\n",
       "        vertical-align: middle;\n",
       "    }\n",
       "\n",
       "    .dataframe tbody tr th {\n",
       "        vertical-align: top;\n",
       "    }\n",
       "\n",
       "    .dataframe thead th {\n",
       "        text-align: right;\n",
       "    }\n",
       "</style>\n",
       "<table border=\"1\" class=\"dataframe\">\n",
       "  <thead>\n",
       "    <tr style=\"text-align: right;\">\n",
       "      <th></th>\n",
       "      <th>location</th>\n",
       "      <th>new_deaths_x</th>\n",
       "      <th>date</th>\n",
       "      <th>new_cases</th>\n",
       "      <th>new_deaths_y</th>\n",
       "      <th>population</th>\n",
       "      <th>aged_65_older_percent</th>\n",
       "      <th>gdp_per_capita</th>\n",
       "      <th>hospital_beds_per_thousand</th>\n",
       "    </tr>\n",
       "  </thead>\n",
       "  <tbody>\n",
       "    <tr>\n",
       "      <th>1</th>\n",
       "      <td>Finland</td>\n",
       "      <td>324</td>\n",
       "      <td>2020-06-10</td>\n",
       "      <td>24</td>\n",
       "      <td>1</td>\n",
       "      <td>5540718.0</td>\n",
       "      <td>21.228</td>\n",
       "      <td>40585.721</td>\n",
       "      <td>3.28</td>\n",
       "    </tr>\n",
       "    <tr>\n",
       "      <th>2</th>\n",
       "      <td>Germany</td>\n",
       "      <td>8729</td>\n",
       "      <td>2020-06-10</td>\n",
       "      <td>318</td>\n",
       "      <td>18</td>\n",
       "      <td>83783945.0</td>\n",
       "      <td>21.453</td>\n",
       "      <td>45229.245</td>\n",
       "      <td>8.00</td>\n",
       "    </tr>\n",
       "    <tr>\n",
       "      <th>4</th>\n",
       "      <td>Italy</td>\n",
       "      <td>34043</td>\n",
       "      <td>2020-06-10</td>\n",
       "      <td>283</td>\n",
       "      <td>79</td>\n",
       "      <td>60461828.0</td>\n",
       "      <td>23.021</td>\n",
       "      <td>35220.084</td>\n",
       "      <td>3.18</td>\n",
       "    </tr>\n",
       "    <tr>\n",
       "      <th>6</th>\n",
       "      <td>Portugal</td>\n",
       "      <td>1492</td>\n",
       "      <td>2020-06-10</td>\n",
       "      <td>421</td>\n",
       "      <td>7</td>\n",
       "      <td>10196707.0</td>\n",
       "      <td>21.502</td>\n",
       "      <td>27936.896</td>\n",
       "      <td>3.39</td>\n",
       "    </tr>\n",
       "  </tbody>\n",
       "</table>\n",
       "</div>"
      ],
      "text/plain": [
       "   location  new_deaths_x        date  new_cases  new_deaths_y  population  \\\n",
       "1   Finland           324  2020-06-10         24             1   5540718.0   \n",
       "2   Germany          8729  2020-06-10        318            18  83783945.0   \n",
       "4     Italy         34043  2020-06-10        283            79  60461828.0   \n",
       "6  Portugal          1492  2020-06-10        421             7  10196707.0   \n",
       "\n",
       "   aged_65_older_percent  gdp_per_capita  hospital_beds_per_thousand  \n",
       "1                 21.228       40585.721                        3.28  \n",
       "2                 21.453       45229.245                        8.00  \n",
       "4                 23.021       35220.084                        3.18  \n",
       "6                 21.502       27936.896                        3.39  "
      ]
     },
     "execution_count": 91,
     "metadata": {},
     "output_type": "execute_result"
    }
   ],
   "source": [
    "covid_data_merged[(covid_data_merged['new_deaths_x']/covid_data_merged['population']) > 50/1000000]"
   ]
  },
  {
   "cell_type": "code",
   "execution_count": 92,
   "metadata": {},
   "outputs": [
    {
     "data": {
      "text/html": [
       "<div>\n",
       "<style scoped>\n",
       "    .dataframe tbody tr th:only-of-type {\n",
       "        vertical-align: middle;\n",
       "    }\n",
       "\n",
       "    .dataframe tbody tr th {\n",
       "        vertical-align: top;\n",
       "    }\n",
       "\n",
       "    .dataframe thead th {\n",
       "        text-align: right;\n",
       "    }\n",
       "</style>\n",
       "<table border=\"1\" class=\"dataframe\">\n",
       "  <thead>\n",
       "    <tr style=\"text-align: right;\">\n",
       "      <th></th>\n",
       "      <th>location</th>\n",
       "      <th>new_deaths_x</th>\n",
       "      <th>date</th>\n",
       "      <th>new_cases</th>\n",
       "      <th>new_deaths_y</th>\n",
       "      <th>population</th>\n",
       "      <th>aged_65_older_percent</th>\n",
       "      <th>gdp_per_capita</th>\n",
       "      <th>hospital_beds_per_thousand</th>\n",
       "    </tr>\n",
       "  </thead>\n",
       "  <tbody>\n",
       "    <tr>\n",
       "      <th>0</th>\n",
       "      <td>Bulgaria</td>\n",
       "      <td>167</td>\n",
       "      <td>2020-06-10</td>\n",
       "      <td>79</td>\n",
       "      <td>3</td>\n",
       "      <td>6948445.0</td>\n",
       "      <td>20.801</td>\n",
       "      <td>18563.307</td>\n",
       "      <td>7.454</td>\n",
       "    </tr>\n",
       "    <tr>\n",
       "      <th>3</th>\n",
       "      <td>Greece</td>\n",
       "      <td>183</td>\n",
       "      <td>2020-06-10</td>\n",
       "      <td>9</td>\n",
       "      <td>1</td>\n",
       "      <td>10423056.0</td>\n",
       "      <td>20.396</td>\n",
       "      <td>24574.382</td>\n",
       "      <td>4.210</td>\n",
       "    </tr>\n",
       "    <tr>\n",
       "      <th>5</th>\n",
       "      <td>Japan</td>\n",
       "      <td>919</td>\n",
       "      <td>2020-06-10</td>\n",
       "      <td>41</td>\n",
       "      <td>3</td>\n",
       "      <td>126476458.0</td>\n",
       "      <td>27.049</td>\n",
       "      <td>39002.223</td>\n",
       "      <td>13.050</td>\n",
       "    </tr>\n",
       "  </tbody>\n",
       "</table>\n",
       "</div>"
      ],
      "text/plain": [
       "   location  new_deaths_x        date  new_cases  new_deaths_y   population  \\\n",
       "0  Bulgaria           167  2020-06-10         79             3    6948445.0   \n",
       "3    Greece           183  2020-06-10          9             1   10423056.0   \n",
       "5     Japan           919  2020-06-10         41             3  126476458.0   \n",
       "\n",
       "   aged_65_older_percent  gdp_per_capita  hospital_beds_per_thousand  \n",
       "0                 20.801       18563.307                       7.454  \n",
       "3                 20.396       24574.382                       4.210  \n",
       "5                 27.049       39002.223                      13.050  "
      ]
     },
     "execution_count": 92,
     "metadata": {},
     "output_type": "execute_result"
    }
   ],
   "source": [
    "covid_data_merged[(covid_data_merged['new_deaths_x']/covid_data_merged['population']) < 50/1000000]"
   ]
  },
  {
   "attachments": {},
   "cell_type": "markdown",
   "metadata": {},
   "source": [
    "F1 Score = 2 * (Precision * Recall) / (Precision + Recall)\n",
    "\n",
    "Precision: Correct positive predictions relative to total positive predictions\n",
    "\n",
    "Recall: Correct positive predictions relative to total actual positives"
   ]
  },
  {
   "cell_type": "code",
   "execution_count": 96,
   "metadata": {},
   "outputs": [
    {
     "data": {
      "text/plain": [
       "0.5714285714285714"
      ]
     },
     "execution_count": 96,
     "metadata": {},
     "output_type": "execute_result"
    }
   ],
   "source": [
    "4/7"
   ]
  },
  {
   "attachments": {},
   "cell_type": "markdown",
   "metadata": {},
   "source": [
    "# When did the difference in the total number of confirmed cases between Italy and Germany become more than 10000"
   ]
  },
  {
   "cell_type": "code",
   "execution_count": 129,
   "metadata": {},
   "outputs": [],
   "source": [
    "covid_data.date = pd.to_datetime(covid_data.date)"
   ]
  },
  {
   "cell_type": "code",
   "execution_count": 142,
   "metadata": {},
   "outputs": [],
   "source": [
    "covid_data_italy = covid_data[covid_data.location == 'Italy'].groupby(by=['date']).sum()\n",
    "covid_data_italy = covid_data_italy.groupby(covid_data_italy.index.year).cumsum().reset_index()"
   ]
  },
  {
   "cell_type": "code",
   "execution_count": 143,
   "metadata": {},
   "outputs": [],
   "source": [
    "covid_data_germany = covid_data[covid_data.location == 'Germany'].groupby(by=['date']).sum()\n",
    "covid_data_germany = covid_data_germany.groupby(covid_data_germany.index.year).cumsum().reset_index()"
   ]
  },
  {
   "cell_type": "code",
   "execution_count": 148,
   "metadata": {},
   "outputs": [],
   "source": [
    "covid_data_germany_italy = pd.merge(covid_data_italy, covid_data_germany, on='date', suffixes=['_italy', '_germany'])"
   ]
  },
  {
   "cell_type": "code",
   "execution_count": 157,
   "metadata": {},
   "outputs": [],
   "source": [
    "covid_data_germany_italy['new_cases_diff'] = abs(covid_data_germany_italy['new_cases_italy']-covid_data_germany_italy['new_cases_germany'])"
   ]
  },
  {
   "cell_type": "code",
   "execution_count": 159,
   "metadata": {},
   "outputs": [
    {
     "data": {
      "text/html": [
       "<div>\n",
       "<style scoped>\n",
       "    .dataframe tbody tr th:only-of-type {\n",
       "        vertical-align: middle;\n",
       "    }\n",
       "\n",
       "    .dataframe tbody tr th {\n",
       "        vertical-align: top;\n",
       "    }\n",
       "\n",
       "    .dataframe thead th {\n",
       "        text-align: right;\n",
       "    }\n",
       "</style>\n",
       "<table border=\"1\" class=\"dataframe\">\n",
       "  <thead>\n",
       "    <tr style=\"text-align: right;\">\n",
       "      <th></th>\n",
       "      <th>date</th>\n",
       "      <th>new_cases_diff</th>\n",
       "    </tr>\n",
       "  </thead>\n",
       "  <tbody>\n",
       "    <tr>\n",
       "      <th>72</th>\n",
       "      <td>2020-03-12</td>\n",
       "      <td>10895</td>\n",
       "    </tr>\n",
       "  </tbody>\n",
       "</table>\n",
       "</div>"
      ],
      "text/plain": [
       "         date  new_cases_diff\n",
       "72 2020-03-12           10895"
      ]
     },
     "execution_count": 159,
     "metadata": {},
     "output_type": "execute_result"
    }
   ],
   "source": [
    "covid_data_germany_italy[covid_data_germany_italy['new_cases_diff'] > 10000].sort_values(by=['date'])[['date', 'new_cases_diff']].head(1)"
   ]
  },
  {
   "attachments": {},
   "cell_type": "markdown",
   "metadata": {},
   "source": [
    "# Fit an exponential function for Italy's cases between 2020-02-28 and 2020-03-20"
   ]
  },
  {
   "cell_type": "code",
   "execution_count": 161,
   "metadata": {},
   "outputs": [
    {
     "data": {
      "text/plain": [
       "date                          datetime64[ns]\n",
       "new_cases                              int64\n",
       "new_deaths                             int64\n",
       "population                           float64\n",
       "aged_65_older_percent                float64\n",
       "gdp_per_capita                       float64\n",
       "hospital_beds_per_thousand           float64\n",
       "dtype: object"
      ]
     },
     "execution_count": 161,
     "metadata": {},
     "output_type": "execute_result"
    }
   ],
   "source": [
    "covid_data_italy.dtypes"
   ]
  },
  {
   "cell_type": "code",
   "execution_count": 163,
   "metadata": {},
   "outputs": [
    {
     "data": {
      "text/plain": [
       "Timestamp('2020-02-28 00:00:00')"
      ]
     },
     "execution_count": 163,
     "metadata": {},
     "output_type": "execute_result"
    }
   ],
   "source": [
    "pd.to_datetime('28-02-2020')"
   ]
  },
  {
   "cell_type": "code",
   "execution_count": 162,
   "metadata": {},
   "outputs": [
    {
     "ename": "ValueError",
     "evalue": "time data '28/02/2020' does not match format '%d %m %y'",
     "output_type": "error",
     "traceback": [
      "\u001b[1;31m---------------------------------------------------------------------------\u001b[0m",
      "\u001b[1;31mValueError\u001b[0m                                Traceback (most recent call last)",
      "\u001b[1;32m<ipython-input-162-b16f616c1282>\u001b[0m in \u001b[0;36m<module>\u001b[1;34m()\u001b[0m\n\u001b[1;32m----> 1\u001b[1;33m \u001b[0mdatetime\u001b[0m\u001b[1;33m.\u001b[0m\u001b[0mstrptime\u001b[0m\u001b[1;33m(\u001b[0m\u001b[1;34m'28/02/2020'\u001b[0m\u001b[1;33m,\u001b[0m \u001b[1;34m'%d %m %y'\u001b[0m\u001b[1;33m)\u001b[0m\u001b[1;33m\u001b[0m\u001b[0m\n\u001b[0m",
      "\u001b[1;32me:\\ProgramData\\Anaconda3\\lib\\_strptime.py\u001b[0m in \u001b[0;36m_strptime_datetime\u001b[1;34m(cls, data_string, format)\u001b[0m\n\u001b[0;32m    563\u001b[0m     \"\"\"Return a class cls instance based on the input string and the\n\u001b[0;32m    564\u001b[0m     format string.\"\"\"\n\u001b[1;32m--> 565\u001b[1;33m     \u001b[0mtt\u001b[0m\u001b[1;33m,\u001b[0m \u001b[0mfraction\u001b[0m \u001b[1;33m=\u001b[0m \u001b[0m_strptime\u001b[0m\u001b[1;33m(\u001b[0m\u001b[0mdata_string\u001b[0m\u001b[1;33m,\u001b[0m \u001b[0mformat\u001b[0m\u001b[1;33m)\u001b[0m\u001b[1;33m\u001b[0m\u001b[0m\n\u001b[0m\u001b[0;32m    566\u001b[0m     \u001b[0mtzname\u001b[0m\u001b[1;33m,\u001b[0m \u001b[0mgmtoff\u001b[0m \u001b[1;33m=\u001b[0m \u001b[0mtt\u001b[0m\u001b[1;33m[\u001b[0m\u001b[1;33m-\u001b[0m\u001b[1;36m2\u001b[0m\u001b[1;33m:\u001b[0m\u001b[1;33m]\u001b[0m\u001b[1;33m\u001b[0m\u001b[0m\n\u001b[0;32m    567\u001b[0m     \u001b[0margs\u001b[0m \u001b[1;33m=\u001b[0m \u001b[0mtt\u001b[0m\u001b[1;33m[\u001b[0m\u001b[1;33m:\u001b[0m\u001b[1;36m6\u001b[0m\u001b[1;33m]\u001b[0m \u001b[1;33m+\u001b[0m \u001b[1;33m(\u001b[0m\u001b[0mfraction\u001b[0m\u001b[1;33m,\u001b[0m\u001b[1;33m)\u001b[0m\u001b[1;33m\u001b[0m\u001b[0m\n",
      "\u001b[1;32me:\\ProgramData\\Anaconda3\\lib\\_strptime.py\u001b[0m in \u001b[0;36m_strptime\u001b[1;34m(data_string, format)\u001b[0m\n\u001b[0;32m    360\u001b[0m     \u001b[1;32mif\u001b[0m \u001b[1;32mnot\u001b[0m \u001b[0mfound\u001b[0m\u001b[1;33m:\u001b[0m\u001b[1;33m\u001b[0m\u001b[0m\n\u001b[0;32m    361\u001b[0m         raise ValueError(\"time data %r does not match format %r\" %\n\u001b[1;32m--> 362\u001b[1;33m                          (data_string, format))\n\u001b[0m\u001b[0;32m    363\u001b[0m     \u001b[1;32mif\u001b[0m \u001b[0mlen\u001b[0m\u001b[1;33m(\u001b[0m\u001b[0mdata_string\u001b[0m\u001b[1;33m)\u001b[0m \u001b[1;33m!=\u001b[0m \u001b[0mfound\u001b[0m\u001b[1;33m.\u001b[0m\u001b[0mend\u001b[0m\u001b[1;33m(\u001b[0m\u001b[1;33m)\u001b[0m\u001b[1;33m:\u001b[0m\u001b[1;33m\u001b[0m\u001b[0m\n\u001b[0;32m    364\u001b[0m         raise ValueError(\"unconverted data remains: %s\" %\n",
      "\u001b[1;31mValueError\u001b[0m: time data '28/02/2020' does not match format '%d %m %y'"
     ]
    }
   ],
   "source": [
    "datetime.strptime('28/02/2020', '%d %m %y')"
   ]
  },
  {
   "cell_type": "code",
   "execution_count": 167,
   "metadata": {},
   "outputs": [
    {
     "data": {
      "text/html": [
       "<div>\n",
       "<style scoped>\n",
       "    .dataframe tbody tr th:only-of-type {\n",
       "        vertical-align: middle;\n",
       "    }\n",
       "\n",
       "    .dataframe tbody tr th {\n",
       "        vertical-align: top;\n",
       "    }\n",
       "\n",
       "    .dataframe thead th {\n",
       "        text-align: right;\n",
       "    }\n",
       "</style>\n",
       "<table border=\"1\" class=\"dataframe\">\n",
       "  <thead>\n",
       "    <tr style=\"text-align: right;\">\n",
       "      <th></th>\n",
       "      <th>date</th>\n",
       "      <th>new_cases</th>\n",
       "      <th>new_deaths</th>\n",
       "      <th>population</th>\n",
       "      <th>aged_65_older_percent</th>\n",
       "      <th>gdp_per_capita</th>\n",
       "      <th>hospital_beds_per_thousand</th>\n",
       "    </tr>\n",
       "  </thead>\n",
       "  <tbody>\n",
       "    <tr>\n",
       "      <th>59</th>\n",
       "      <td>2020-02-28</td>\n",
       "      <td>650</td>\n",
       "      <td>17</td>\n",
       "      <td>3.567248e+09</td>\n",
       "      <td>1358.239</td>\n",
       "      <td>2077984.956</td>\n",
       "      <td>187.62</td>\n",
       "    </tr>\n",
       "    <tr>\n",
       "      <th>60</th>\n",
       "      <td>2020-02-29</td>\n",
       "      <td>888</td>\n",
       "      <td>21</td>\n",
       "      <td>3.627710e+09</td>\n",
       "      <td>1381.260</td>\n",
       "      <td>2113205.040</td>\n",
       "      <td>190.80</td>\n",
       "    </tr>\n",
       "    <tr>\n",
       "      <th>61</th>\n",
       "      <td>2020-03-01</td>\n",
       "      <td>1128</td>\n",
       "      <td>29</td>\n",
       "      <td>3.688172e+09</td>\n",
       "      <td>1404.281</td>\n",
       "      <td>2148425.124</td>\n",
       "      <td>193.98</td>\n",
       "    </tr>\n",
       "    <tr>\n",
       "      <th>62</th>\n",
       "      <td>2020-03-02</td>\n",
       "      <td>1689</td>\n",
       "      <td>35</td>\n",
       "      <td>3.748633e+09</td>\n",
       "      <td>1427.302</td>\n",
       "      <td>2183645.208</td>\n",
       "      <td>197.16</td>\n",
       "    </tr>\n",
       "    <tr>\n",
       "      <th>63</th>\n",
       "      <td>2020-03-03</td>\n",
       "      <td>2036</td>\n",
       "      <td>52</td>\n",
       "      <td>3.809095e+09</td>\n",
       "      <td>1450.323</td>\n",
       "      <td>2218865.292</td>\n",
       "      <td>200.34</td>\n",
       "    </tr>\n",
       "    <tr>\n",
       "      <th>64</th>\n",
       "      <td>2020-03-04</td>\n",
       "      <td>2502</td>\n",
       "      <td>80</td>\n",
       "      <td>3.869557e+09</td>\n",
       "      <td>1473.344</td>\n",
       "      <td>2254085.376</td>\n",
       "      <td>203.52</td>\n",
       "    </tr>\n",
       "    <tr>\n",
       "      <th>65</th>\n",
       "      <td>2020-03-05</td>\n",
       "      <td>3089</td>\n",
       "      <td>107</td>\n",
       "      <td>3.930019e+09</td>\n",
       "      <td>1496.365</td>\n",
       "      <td>2289305.460</td>\n",
       "      <td>206.70</td>\n",
       "    </tr>\n",
       "    <tr>\n",
       "      <th>66</th>\n",
       "      <td>2020-03-06</td>\n",
       "      <td>3858</td>\n",
       "      <td>148</td>\n",
       "      <td>3.990481e+09</td>\n",
       "      <td>1519.386</td>\n",
       "      <td>2324525.544</td>\n",
       "      <td>209.88</td>\n",
       "    </tr>\n",
       "    <tr>\n",
       "      <th>67</th>\n",
       "      <td>2020-03-07</td>\n",
       "      <td>4636</td>\n",
       "      <td>197</td>\n",
       "      <td>4.050942e+09</td>\n",
       "      <td>1542.407</td>\n",
       "      <td>2359745.628</td>\n",
       "      <td>213.06</td>\n",
       "    </tr>\n",
       "    <tr>\n",
       "      <th>68</th>\n",
       "      <td>2020-03-08</td>\n",
       "      <td>5883</td>\n",
       "      <td>233</td>\n",
       "      <td>4.111404e+09</td>\n",
       "      <td>1565.428</td>\n",
       "      <td>2394965.712</td>\n",
       "      <td>216.24</td>\n",
       "    </tr>\n",
       "    <tr>\n",
       "      <th>69</th>\n",
       "      <td>2020-03-09</td>\n",
       "      <td>7375</td>\n",
       "      <td>366</td>\n",
       "      <td>4.171866e+09</td>\n",
       "      <td>1588.449</td>\n",
       "      <td>2430185.796</td>\n",
       "      <td>219.42</td>\n",
       "    </tr>\n",
       "    <tr>\n",
       "      <th>70</th>\n",
       "      <td>2020-03-10</td>\n",
       "      <td>9172</td>\n",
       "      <td>464</td>\n",
       "      <td>4.232328e+09</td>\n",
       "      <td>1611.470</td>\n",
       "      <td>2465405.880</td>\n",
       "      <td>222.60</td>\n",
       "    </tr>\n",
       "    <tr>\n",
       "      <th>71</th>\n",
       "      <td>2020-03-11</td>\n",
       "      <td>10149</td>\n",
       "      <td>631</td>\n",
       "      <td>4.292790e+09</td>\n",
       "      <td>1634.491</td>\n",
       "      <td>2500625.964</td>\n",
       "      <td>225.78</td>\n",
       "    </tr>\n",
       "    <tr>\n",
       "      <th>72</th>\n",
       "      <td>2020-03-12</td>\n",
       "      <td>12462</td>\n",
       "      <td>827</td>\n",
       "      <td>4.353252e+09</td>\n",
       "      <td>1657.512</td>\n",
       "      <td>2535846.048</td>\n",
       "      <td>228.96</td>\n",
       "    </tr>\n",
       "    <tr>\n",
       "      <th>73</th>\n",
       "      <td>2020-03-13</td>\n",
       "      <td>15113</td>\n",
       "      <td>1016</td>\n",
       "      <td>4.413713e+09</td>\n",
       "      <td>1680.533</td>\n",
       "      <td>2571066.132</td>\n",
       "      <td>232.14</td>\n",
       "    </tr>\n",
       "    <tr>\n",
       "      <th>74</th>\n",
       "      <td>2020-03-14</td>\n",
       "      <td>17660</td>\n",
       "      <td>1268</td>\n",
       "      <td>4.474175e+09</td>\n",
       "      <td>1703.554</td>\n",
       "      <td>2606286.216</td>\n",
       "      <td>235.32</td>\n",
       "    </tr>\n",
       "    <tr>\n",
       "      <th>75</th>\n",
       "      <td>2020-03-15</td>\n",
       "      <td>21157</td>\n",
       "      <td>1441</td>\n",
       "      <td>4.534637e+09</td>\n",
       "      <td>1726.575</td>\n",
       "      <td>2641506.300</td>\n",
       "      <td>238.50</td>\n",
       "    </tr>\n",
       "    <tr>\n",
       "      <th>76</th>\n",
       "      <td>2020-03-16</td>\n",
       "      <td>23980</td>\n",
       "      <td>1811</td>\n",
       "      <td>4.595099e+09</td>\n",
       "      <td>1749.596</td>\n",
       "      <td>2676726.384</td>\n",
       "      <td>241.68</td>\n",
       "    </tr>\n",
       "    <tr>\n",
       "      <th>77</th>\n",
       "      <td>2020-03-17</td>\n",
       "      <td>27980</td>\n",
       "      <td>2158</td>\n",
       "      <td>4.655561e+09</td>\n",
       "      <td>1772.617</td>\n",
       "      <td>2711946.468</td>\n",
       "      <td>244.86</td>\n",
       "    </tr>\n",
       "    <tr>\n",
       "      <th>78</th>\n",
       "      <td>2020-03-18</td>\n",
       "      <td>31506</td>\n",
       "      <td>2505</td>\n",
       "      <td>4.716023e+09</td>\n",
       "      <td>1795.638</td>\n",
       "      <td>2747166.552</td>\n",
       "      <td>248.04</td>\n",
       "    </tr>\n",
       "    <tr>\n",
       "      <th>79</th>\n",
       "      <td>2020-03-19</td>\n",
       "      <td>35713</td>\n",
       "      <td>2978</td>\n",
       "      <td>4.776484e+09</td>\n",
       "      <td>1818.659</td>\n",
       "      <td>2782386.636</td>\n",
       "      <td>251.22</td>\n",
       "    </tr>\n",
       "    <tr>\n",
       "      <th>80</th>\n",
       "      <td>2020-03-20</td>\n",
       "      <td>41035</td>\n",
       "      <td>3407</td>\n",
       "      <td>4.836946e+09</td>\n",
       "      <td>1841.680</td>\n",
       "      <td>2817606.720</td>\n",
       "      <td>254.40</td>\n",
       "    </tr>\n",
       "  </tbody>\n",
       "</table>\n",
       "</div>"
      ],
      "text/plain": [
       "         date  new_cases  new_deaths    population  aged_65_older_percent  \\\n",
       "59 2020-02-28        650          17  3.567248e+09               1358.239   \n",
       "60 2020-02-29        888          21  3.627710e+09               1381.260   \n",
       "61 2020-03-01       1128          29  3.688172e+09               1404.281   \n",
       "62 2020-03-02       1689          35  3.748633e+09               1427.302   \n",
       "63 2020-03-03       2036          52  3.809095e+09               1450.323   \n",
       "64 2020-03-04       2502          80  3.869557e+09               1473.344   \n",
       "65 2020-03-05       3089         107  3.930019e+09               1496.365   \n",
       "66 2020-03-06       3858         148  3.990481e+09               1519.386   \n",
       "67 2020-03-07       4636         197  4.050942e+09               1542.407   \n",
       "68 2020-03-08       5883         233  4.111404e+09               1565.428   \n",
       "69 2020-03-09       7375         366  4.171866e+09               1588.449   \n",
       "70 2020-03-10       9172         464  4.232328e+09               1611.470   \n",
       "71 2020-03-11      10149         631  4.292790e+09               1634.491   \n",
       "72 2020-03-12      12462         827  4.353252e+09               1657.512   \n",
       "73 2020-03-13      15113        1016  4.413713e+09               1680.533   \n",
       "74 2020-03-14      17660        1268  4.474175e+09               1703.554   \n",
       "75 2020-03-15      21157        1441  4.534637e+09               1726.575   \n",
       "76 2020-03-16      23980        1811  4.595099e+09               1749.596   \n",
       "77 2020-03-17      27980        2158  4.655561e+09               1772.617   \n",
       "78 2020-03-18      31506        2505  4.716023e+09               1795.638   \n",
       "79 2020-03-19      35713        2978  4.776484e+09               1818.659   \n",
       "80 2020-03-20      41035        3407  4.836946e+09               1841.680   \n",
       "\n",
       "    gdp_per_capita  hospital_beds_per_thousand  \n",
       "59     2077984.956                      187.62  \n",
       "60     2113205.040                      190.80  \n",
       "61     2148425.124                      193.98  \n",
       "62     2183645.208                      197.16  \n",
       "63     2218865.292                      200.34  \n",
       "64     2254085.376                      203.52  \n",
       "65     2289305.460                      206.70  \n",
       "66     2324525.544                      209.88  \n",
       "67     2359745.628                      213.06  \n",
       "68     2394965.712                      216.24  \n",
       "69     2430185.796                      219.42  \n",
       "70     2465405.880                      222.60  \n",
       "71     2500625.964                      225.78  \n",
       "72     2535846.048                      228.96  \n",
       "73     2571066.132                      232.14  \n",
       "74     2606286.216                      235.32  \n",
       "75     2641506.300                      238.50  \n",
       "76     2676726.384                      241.68  \n",
       "77     2711946.468                      244.86  \n",
       "78     2747166.552                      248.04  \n",
       "79     2782386.636                      251.22  \n",
       "80     2817606.720                      254.40  "
      ]
     },
     "execution_count": 167,
     "metadata": {},
     "output_type": "execute_result"
    }
   ],
   "source": [
    "covid_data_italy[(covid_data_italy['date'] >= pd.to_datetime('28-02-2020')) & (covid_data_italy['date'] <= pd.to_datetime('20-03-2020'))]"
   ]
  },
  {
   "attachments": {},
   "cell_type": "markdown",
   "metadata": {},
   "source": [
    "# Percentage of people more than 2 standart deviations far from the average height"
   ]
  },
  {
   "cell_type": "code",
   "execution_count": 174,
   "metadata": {},
   "outputs": [],
   "source": [
    "height_avg = cardio_base.height.mean()"
   ]
  },
  {
   "cell_type": "code",
   "execution_count": 175,
   "metadata": {},
   "outputs": [],
   "source": [
    "height_std = cardio_base.height.std()"
   ]
  },
  {
   "cell_type": "code",
   "execution_count": 178,
   "metadata": {},
   "outputs": [],
   "source": [
    "low = height_avg - (2 * height_std)\n",
    "high = height_avg + (2 * height_std)"
   ]
  },
  {
   "cell_type": "code",
   "execution_count": 183,
   "metadata": {},
   "outputs": [
    {
     "data": {
      "text/plain": [
       "3.335714285714286"
      ]
     },
     "execution_count": 183,
     "metadata": {},
     "output_type": "execute_result"
    }
   ],
   "source": [
    "100*cardio_base[(cardio_base['height'] < low) | (cardio_base['height'] > high)].size/cardio_base.size"
   ]
  },
  {
   "attachments": {},
   "cell_type": "markdown",
   "metadata": {},
   "source": [
    "# Are men more likely to be a smoker?"
   ]
  },
  {
   "cell_type": "code",
   "execution_count": 186,
   "metadata": {},
   "outputs": [
    {
     "data": {
      "text/html": [
       "<div>\n",
       "<style scoped>\n",
       "    .dataframe tbody tr th:only-of-type {\n",
       "        vertical-align: middle;\n",
       "    }\n",
       "\n",
       "    .dataframe tbody tr th {\n",
       "        vertical-align: top;\n",
       "    }\n",
       "\n",
       "    .dataframe thead th {\n",
       "        text-align: right;\n",
       "    }\n",
       "</style>\n",
       "<table border=\"1\" class=\"dataframe\">\n",
       "  <thead>\n",
       "    <tr style=\"text-align: right;\">\n",
       "      <th></th>\n",
       "      <th>id</th>\n",
       "      <th>age</th>\n",
       "      <th>height</th>\n",
       "      <th>weight</th>\n",
       "      <th>ap_hi</th>\n",
       "      <th>ap_lo</th>\n",
       "      <th>cholesterol</th>\n",
       "      <th>smoke</th>\n",
       "    </tr>\n",
       "    <tr>\n",
       "      <th>gender</th>\n",
       "      <th></th>\n",
       "      <th></th>\n",
       "      <th></th>\n",
       "      <th></th>\n",
       "      <th></th>\n",
       "      <th></th>\n",
       "      <th></th>\n",
       "      <th></th>\n",
       "    </tr>\n",
       "  </thead>\n",
       "  <tbody>\n",
       "    <tr>\n",
       "      <th>1</th>\n",
       "      <td>49898.345267</td>\n",
       "      <td>19510.124577</td>\n",
       "      <td>161.355612</td>\n",
       "      <td>72.565605</td>\n",
       "      <td>128.139249</td>\n",
       "      <td>94.522776</td>\n",
       "      <td>1.384735</td>\n",
       "      <td>0.017856</td>\n",
       "    </tr>\n",
       "    <tr>\n",
       "      <th>2</th>\n",
       "      <td>50110.246547</td>\n",
       "      <td>19392.097875</td>\n",
       "      <td>169.947895</td>\n",
       "      <td>77.257307</td>\n",
       "      <td>130.078872</td>\n",
       "      <td>100.551982</td>\n",
       "      <td>1.333633</td>\n",
       "      <td>0.218880</td>\n",
       "    </tr>\n",
       "  </tbody>\n",
       "</table>\n",
       "</div>"
      ],
      "text/plain": [
       "                  id           age      height     weight       ap_hi  \\\n",
       "gender                                                                  \n",
       "1       49898.345267  19510.124577  161.355612  72.565605  128.139249   \n",
       "2       50110.246547  19392.097875  169.947895  77.257307  130.078872   \n",
       "\n",
       "             ap_lo  cholesterol     smoke  \n",
       "gender                                     \n",
       "1        94.522776     1.384735  0.017856  \n",
       "2       100.551982     1.333633  0.218880  "
      ]
     },
     "execution_count": 186,
     "metadata": {},
     "output_type": "execute_result"
    }
   ],
   "source": [
    "cardio_base.groupby(by=['gender']).mean()"
   ]
  },
  {
   "cell_type": "code",
   "execution_count": 187,
   "metadata": {},
   "outputs": [],
   "source": [
    "cardio_base_men = cardio_base[cardio_base['gender'] == 2]\n",
    "cardio_base_women = cardio_base[cardio_base['gender'] == 1]"
   ]
  },
  {
   "cell_type": "code",
   "execution_count": 196,
   "metadata": {},
   "outputs": [
    {
     "data": {
      "text/plain": [
       "id             1.226198e+09\n",
       "age            4.745246e+08\n",
       "gender         4.894000e+04\n",
       "height         4.158625e+06\n",
       "weight         1.890486e+06\n",
       "ap_hi          3.183030e+06\n",
       "ap_lo          2.460507e+06\n",
       "cholesterol    3.263400e+04\n",
       "smoke          5.356000e+03\n",
       "dtype: float64"
      ]
     },
     "execution_count": 196,
     "metadata": {},
     "output_type": "execute_result"
    }
   ],
   "source": [
    "cardio_base_men.sum()"
   ]
  },
  {
   "cell_type": "code",
   "execution_count": 197,
   "metadata": {},
   "outputs": [
    {
     "data": {
      "text/plain": [
       "id             2.271872e+09\n",
       "age            8.882960e+08\n",
       "gender         4.553000e+04\n",
       "height         7.346521e+06\n",
       "weight         3.303912e+06\n",
       "ap_hi          5.834180e+06\n",
       "ap_lo          4.303622e+06\n",
       "cholesterol    6.304700e+04\n",
       "smoke          8.130000e+02\n",
       "dtype: float64"
      ]
     },
     "execution_count": 197,
     "metadata": {},
     "output_type": "execute_result"
    }
   ],
   "source": [
    "cardio_base_women.sum()"
   ]
  },
  {
   "cell_type": "code",
   "execution_count": 192,
   "metadata": {},
   "outputs": [],
   "source": [
    "men_smoker_chance = cardio_base_men[cardio_base_men['smoke']==1].size/cardio_base_men.size\n",
    "women_smoker_chance = cardio_base_women[cardio_base_women['smoke']==1].size/cardio_base_women.size"
   ]
  },
  {
   "cell_type": "code",
   "execution_count": 193,
   "metadata": {},
   "outputs": [
    {
     "data": {
      "text/plain": [
       "12.257833097333833"
      ]
     },
     "execution_count": 193,
     "metadata": {},
     "output_type": "execute_result"
    }
   ],
   "source": [
    "men_smoker_chance/women_smoker_chance"
   ]
  },
  {
   "attachments": {},
   "cell_type": "markdown",
   "metadata": {},
   "source": [
    "# How much heavier is the group with the highest average weight than the group with the lowest weight?"
   ]
  },
  {
   "cell_type": "code",
   "execution_count": 201,
   "metadata": {},
   "outputs": [],
   "source": [
    "cardio_base['age_years'] = round(cardio_base['age']/365).astype(int)"
   ]
  },
  {
   "cell_type": "code",
   "execution_count": 208,
   "metadata": {},
   "outputs": [],
   "source": [
    "age_years_mean = cardio_base.groupby('age_years').mean().sort_values(by='weight')"
   ]
  },
  {
   "cell_type": "code",
   "execution_count": 219,
   "metadata": {},
   "outputs": [
    {
     "data": {
      "text/plain": [
       "1.1213754646840148"
      ]
     },
     "execution_count": 219,
     "metadata": {},
     "output_type": "execute_result"
    }
   ],
   "source": [
    "age_years_mean.tail(1).weight.item()/age_years_mean.head(1).weight.item()"
   ]
  },
  {
   "attachments": {},
   "cell_type": "markdown",
   "metadata": {},
   "source": [
    "# Which country has the 3rd highest death rate?"
   ]
  },
  {
   "cell_type": "code",
   "execution_count": 226,
   "metadata": {},
   "outputs": [],
   "source": [
    "covid_data_deaths = covid_data_deaths.rename(columns={'new_deaths': 'total_deaths'})"
   ]
  },
  {
   "cell_type": "code",
   "execution_count": 222,
   "metadata": {},
   "outputs": [
    {
     "data": {
      "text/html": [
       "<div>\n",
       "<style scoped>\n",
       "    .dataframe tbody tr th:only-of-type {\n",
       "        vertical-align: middle;\n",
       "    }\n",
       "\n",
       "    .dataframe tbody tr th {\n",
       "        vertical-align: top;\n",
       "    }\n",
       "\n",
       "    .dataframe thead th {\n",
       "        text-align: right;\n",
       "    }\n",
       "</style>\n",
       "<table border=\"1\" class=\"dataframe\">\n",
       "  <thead>\n",
       "    <tr style=\"text-align: right;\">\n",
       "      <th></th>\n",
       "      <th>location</th>\n",
       "      <th>date</th>\n",
       "      <th>new_cases</th>\n",
       "      <th>new_deaths</th>\n",
       "      <th>population</th>\n",
       "      <th>aged_65_older_percent</th>\n",
       "      <th>gdp_per_capita</th>\n",
       "      <th>hospital_beds_per_thousand</th>\n",
       "    </tr>\n",
       "  </thead>\n",
       "  <tbody>\n",
       "    <tr>\n",
       "      <th>0</th>\n",
       "      <td>Afghanistan</td>\n",
       "      <td>2020-06-10</td>\n",
       "      <td>542</td>\n",
       "      <td>15</td>\n",
       "      <td>38928341.0</td>\n",
       "      <td>2.581</td>\n",
       "      <td>1803.987</td>\n",
       "      <td>0.50</td>\n",
       "    </tr>\n",
       "    <tr>\n",
       "      <th>1</th>\n",
       "      <td>Albania</td>\n",
       "      <td>2020-06-10</td>\n",
       "      <td>36</td>\n",
       "      <td>0</td>\n",
       "      <td>2877800.0</td>\n",
       "      <td>13.188</td>\n",
       "      <td>11803.431</td>\n",
       "      <td>2.89</td>\n",
       "    </tr>\n",
       "    <tr>\n",
       "      <th>2</th>\n",
       "      <td>Algeria</td>\n",
       "      <td>2020-06-10</td>\n",
       "      <td>117</td>\n",
       "      <td>9</td>\n",
       "      <td>43851043.0</td>\n",
       "      <td>6.211</td>\n",
       "      <td>13913.839</td>\n",
       "      <td>1.90</td>\n",
       "    </tr>\n",
       "    <tr>\n",
       "      <th>3</th>\n",
       "      <td>Andorra</td>\n",
       "      <td>2020-06-10</td>\n",
       "      <td>0</td>\n",
       "      <td>0</td>\n",
       "      <td>77265.0</td>\n",
       "      <td>NaN</td>\n",
       "      <td>NaN</td>\n",
       "      <td>NaN</td>\n",
       "    </tr>\n",
       "    <tr>\n",
       "      <th>4</th>\n",
       "      <td>Angola</td>\n",
       "      <td>2020-06-10</td>\n",
       "      <td>4</td>\n",
       "      <td>0</td>\n",
       "      <td>32866268.0</td>\n",
       "      <td>2.405</td>\n",
       "      <td>5819.495</td>\n",
       "      <td>NaN</td>\n",
       "    </tr>\n",
       "  </tbody>\n",
       "</table>\n",
       "</div>"
      ],
      "text/plain": [
       "      location        date  new_cases  new_deaths  population  \\\n",
       "0  Afghanistan  2020-06-10        542          15  38928341.0   \n",
       "1      Albania  2020-06-10         36           0   2877800.0   \n",
       "2      Algeria  2020-06-10        117           9  43851043.0   \n",
       "3      Andorra  2020-06-10          0           0     77265.0   \n",
       "4       Angola  2020-06-10          4           0  32866268.0   \n",
       "\n",
       "   aged_65_older_percent  gdp_per_capita  hospital_beds_per_thousand  \n",
       "0                  2.581        1803.987                        0.50  \n",
       "1                 13.188       11803.431                        2.89  \n",
       "2                  6.211       13913.839                        1.90  \n",
       "3                    NaN             NaN                         NaN  \n",
       "4                  2.405        5819.495                         NaN  "
      ]
     },
     "execution_count": 222,
     "metadata": {},
     "output_type": "execute_result"
    }
   ],
   "source": [
    "covid_data_latest.head()"
   ]
  },
  {
   "cell_type": "code",
   "execution_count": 228,
   "metadata": {},
   "outputs": [],
   "source": [
    "covid_data_latest_deaths = pd.merge(covid_data_latest, covid_data_deaths, on='location', how='inner')"
   ]
  },
  {
   "cell_type": "code",
   "execution_count": 230,
   "metadata": {},
   "outputs": [],
   "source": [
    "covid_data_latest_deaths['death_to_population'] = covid_data_latest_deaths.total_deaths/covid_data_latest_deaths.population"
   ]
  },
  {
   "cell_type": "code",
   "execution_count": 239,
   "metadata": {},
   "outputs": [
    {
     "data": {
      "text/plain": [
       "'Andorra'"
      ]
     },
     "execution_count": 239,
     "metadata": {},
     "output_type": "execute_result"
    }
   ],
   "source": [
    "covid_data_latest_deaths.sort_values(by='death_to_population',ascending=False).head(3).loc[3, 'location']"
   ]
  },
  {
   "attachments": {},
   "cell_type": "markdown",
   "metadata": {},
   "source": [
    "# Probability country had gdp over 10000 iif they have at least 5 hospital beds per 1000 inhabitants"
   ]
  },
  {
   "cell_type": "code",
   "execution_count": 243,
   "metadata": {},
   "outputs": [
    {
     "data": {
      "text/html": [
       "<div>\n",
       "<style scoped>\n",
       "    .dataframe tbody tr th:only-of-type {\n",
       "        vertical-align: middle;\n",
       "    }\n",
       "\n",
       "    .dataframe tbody tr th {\n",
       "        vertical-align: top;\n",
       "    }\n",
       "\n",
       "    .dataframe thead th {\n",
       "        text-align: right;\n",
       "    }\n",
       "</style>\n",
       "<table border=\"1\" class=\"dataframe\">\n",
       "  <thead>\n",
       "    <tr style=\"text-align: right;\">\n",
       "      <th></th>\n",
       "      <th>location</th>\n",
       "      <th>date</th>\n",
       "      <th>new_cases</th>\n",
       "      <th>new_deaths</th>\n",
       "      <th>population</th>\n",
       "      <th>aged_65_older_percent</th>\n",
       "      <th>gdp_per_capita</th>\n",
       "      <th>hospital_beds_per_thousand</th>\n",
       "    </tr>\n",
       "  </thead>\n",
       "  <tbody>\n",
       "    <tr>\n",
       "      <th>0</th>\n",
       "      <td>Afghanistan</td>\n",
       "      <td>2020-06-10</td>\n",
       "      <td>542</td>\n",
       "      <td>15</td>\n",
       "      <td>38928341.0</td>\n",
       "      <td>2.581</td>\n",
       "      <td>1803.987</td>\n",
       "      <td>0.50</td>\n",
       "    </tr>\n",
       "    <tr>\n",
       "      <th>1</th>\n",
       "      <td>Albania</td>\n",
       "      <td>2020-06-10</td>\n",
       "      <td>36</td>\n",
       "      <td>0</td>\n",
       "      <td>2877800.0</td>\n",
       "      <td>13.188</td>\n",
       "      <td>11803.431</td>\n",
       "      <td>2.89</td>\n",
       "    </tr>\n",
       "    <tr>\n",
       "      <th>2</th>\n",
       "      <td>Algeria</td>\n",
       "      <td>2020-06-10</td>\n",
       "      <td>117</td>\n",
       "      <td>9</td>\n",
       "      <td>43851043.0</td>\n",
       "      <td>6.211</td>\n",
       "      <td>13913.839</td>\n",
       "      <td>1.90</td>\n",
       "    </tr>\n",
       "  </tbody>\n",
       "</table>\n",
       "</div>"
      ],
      "text/plain": [
       "      location        date  new_cases  new_deaths  population  \\\n",
       "0  Afghanistan  2020-06-10        542          15  38928341.0   \n",
       "1      Albania  2020-06-10         36           0   2877800.0   \n",
       "2      Algeria  2020-06-10        117           9  43851043.0   \n",
       "\n",
       "   aged_65_older_percent  gdp_per_capita  hospital_beds_per_thousand  \n",
       "0                  2.581        1803.987                        0.50  \n",
       "1                 13.188       11803.431                        2.89  \n",
       "2                  6.211       13913.839                        1.90  "
      ]
     },
     "execution_count": 243,
     "metadata": {},
     "output_type": "execute_result"
    }
   ],
   "source": [
    "covid_data_latest.head(3)"
   ]
  },
  {
   "cell_type": "code",
   "execution_count": 248,
   "metadata": {},
   "outputs": [
    {
     "data": {
      "text/plain": [
       "0.8214285714285714"
      ]
     },
     "execution_count": 248,
     "metadata": {},
     "output_type": "execute_result"
    }
   ],
   "source": [
    "covid_data_latest[(covid_data_latest['hospital_beds_per_thousand']>=5) & (covid_data_latest['gdp_per_capita']>10000)].size/covid_data_latest[(covid_data_latest['hospital_beds_per_thousand']>=5)].size"
   ]
  },
  {
   "cell_type": "code",
   "execution_count": 251,
   "metadata": {},
   "outputs": [
    {
     "data": {
      "text/plain": [
       "0.8565304372677908"
      ]
     },
     "execution_count": 251,
     "metadata": {},
     "output_type": "execute_result"
    }
   ],
   "source": [
    "covid_data[(covid_data['hospital_beds_per_thousand']>=5) & (covid_data['gdp_per_capita']>10000)].size/covid_data[(covid_data['hospital_beds_per_thousand']>=5)].size"
   ]
  },
  {
   "attachments": {},
   "cell_type": "markdown",
   "metadata": {},
   "source": [
    "# How tall is the tallest 1% of people"
   ]
  },
  {
   "cell_type": "code",
   "execution_count": 256,
   "metadata": {},
   "outputs": [
    {
     "data": {
      "text/plain": [
       "1.0871428571428572"
      ]
     },
     "execution_count": 256,
     "metadata": {},
     "output_type": "execute_result"
    }
   ],
   "source": [
    "100*(cardio_base[cardio_base['height']>=184].size/cardio_base.size)"
   ]
  },
  {
   "attachments": {},
   "cell_type": "markdown",
   "metadata": {},
   "source": [
    "# Which is 95% confidence True?"
   ]
  },
  {
   "cell_type": "code",
   "execution_count": 261,
   "metadata": {},
   "outputs": [
    {
     "data": {
      "text/plain": [
       "id             49629.119630\n",
       "age            19090.836927\n",
       "gender             1.868212\n",
       "height           169.323877\n",
       "weight            77.344351\n",
       "ap_hi            128.360512\n",
       "ap_lo             99.774518\n",
       "cholesterol        1.389528\n",
       "smoke              1.000000\n",
       "age_years         52.296645\n",
       "dtype: float64"
      ]
     },
     "execution_count": 261,
     "metadata": {},
     "output_type": "execute_result"
    }
   ],
   "source": [
    "cardio_base[cardio_base['smoke']==1].mean()"
   ]
  },
  {
   "cell_type": "code",
   "execution_count": 262,
   "metadata": {},
   "outputs": [
    {
     "data": {
      "text/plain": [
       "id             50005.598440\n",
       "age            19505.400730\n",
       "gender             1.299447\n",
       "height           163.879416\n",
       "weight            73.902352\n",
       "ap_hi            128.861431\n",
       "ap_lo             96.326550\n",
       "cholesterol        1.364682\n",
       "smoke              0.000000\n",
       "age_years         53.439395\n",
       "dtype: float64"
      ]
     },
     "execution_count": 262,
     "metadata": {},
     "output_type": "execute_result"
    }
   ],
   "source": [
    "cardio_base[cardio_base['smoke']==0].mean()"
   ]
  },
  {
   "cell_type": "code",
   "execution_count": 264,
   "metadata": {},
   "outputs": [
    {
     "data": {
      "text/plain": [
       "id             50110.246547\n",
       "age            19392.097875\n",
       "gender             2.000000\n",
       "height           169.947895\n",
       "weight            77.257307\n",
       "ap_hi            130.078872\n",
       "ap_lo            100.551982\n",
       "cholesterol        1.333633\n",
       "smoke              0.218880\n",
       "age_years         53.126277\n",
       "dtype: float64"
      ]
     },
     "execution_count": 264,
     "metadata": {},
     "output_type": "execute_result"
    }
   ],
   "source": [
    "cardio_base[cardio_base['gender']==2].mean()"
   ]
  },
  {
   "cell_type": "code",
   "execution_count": 263,
   "metadata": {},
   "outputs": [
    {
     "data": {
      "text/plain": [
       "id             49898.345267\n",
       "age            19510.124577\n",
       "gender             1.000000\n",
       "height           161.355612\n",
       "weight            72.565605\n",
       "ap_hi            128.139249\n",
       "ap_lo             94.522776\n",
       "cholesterol        1.384735\n",
       "smoke              0.017856\n",
       "age_years         53.452844\n",
       "dtype: float64"
      ]
     },
     "execution_count": 263,
     "metadata": {},
     "output_type": "execute_result"
    }
   ],
   "source": [
    "cardio_base[cardio_base['gender']==1].mean()"
   ]
  },
  {
   "cell_type": "code",
   "execution_count": 266,
   "metadata": {},
   "outputs": [
    {
     "data": {
      "text/plain": [
       "id             50029.452342\n",
       "age            20672.047511\n",
       "gender             1.336910\n",
       "height           164.016566\n",
       "weight            74.570140\n",
       "ap_hi            130.212113\n",
       "ap_lo             98.834950\n",
       "cholesterol        1.415602\n",
       "smoke              0.080584\n",
       "age_years         56.640631\n",
       "dtype: float64"
      ]
     },
     "execution_count": 266,
     "metadata": {},
     "output_type": "execute_result"
    }
   ],
   "source": [
    "cardio_base[cardio_base['age_years']>=50].mean()"
   ]
  },
  {
   "cell_type": "code",
   "execution_count": 267,
   "metadata": {},
   "outputs": [
    {
     "data": {
      "text/plain": [
       "id             49816.519868\n",
       "age            16179.929596\n",
       "gender             1.384180\n",
       "height           165.295909\n",
       "weight            73.209455\n",
       "ap_hi            125.004480\n",
       "ap_lo             90.604246\n",
       "cholesterol        1.233666\n",
       "smoke              0.108752\n",
       "age_years         44.312710\n",
       "dtype: float64"
      ]
     },
     "execution_count": 267,
     "metadata": {},
     "output_type": "execute_result"
    }
   ],
   "source": [
    "cardio_base[cardio_base['age_years']<50].mean()"
   ]
  },
  {
   "cell_type": "markdown",
   "metadata": {},
   "source": []
  },
  {
   "cell_type": "markdown",
   "metadata": {},
   "source": []
  }
 ],
 "metadata": {
  "kernelspec": {
   "display_name": "base",
   "language": "python",
   "name": "python3"
  },
  "language_info": {
   "codemirror_mode": {
    "name": "ipython",
    "version": 3
   },
   "file_extension": ".py",
   "mimetype": "text/x-python",
   "name": "python",
   "nbconvert_exporter": "python",
   "pygments_lexer": "ipython3",
   "version": "3.6.4"
  },
  "orig_nbformat": 4,
  "vscode": {
   "interpreter": {
    "hash": "12d738f96725d1c1f433a1d40c5369c2dd6b861cec3a8aa29acd662c91ac2528"
   }
  }
 },
 "nbformat": 4,
 "nbformat_minor": 2
}
