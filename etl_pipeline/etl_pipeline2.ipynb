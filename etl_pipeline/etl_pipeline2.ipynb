{
 "cells": [
  {
   "cell_type": "code",
   "execution_count": 10,
   "metadata": {},
   "outputs": [
    {
     "ename": "SyntaxError",
     "evalue": "invalid syntax (641261227.py, line 59)",
     "output_type": "error",
     "traceback": [
      "\u001b[1;36m  Input \u001b[1;32mIn [10]\u001b[1;36m\u001b[0m\n\u001b[1;33m    match subject:\u001b[0m\n\u001b[1;37m          ^\u001b[0m\n\u001b[1;31mSyntaxError\u001b[0m\u001b[1;31m:\u001b[0m invalid syntax\n"
     ]
    }
   ],
   "source": [
    "from collections.abc import Generator\n",
    "from functools import wraps\n",
    "from typing import Tuple, Dict, Any\n",
    "\n",
    "import psycopg2\n",
    "from psycopg2.extras import DictCursor, DictRow\n",
    "\n",
    "SQL = \"\"\"select id, number from etl.source\"\"\"\n",
    "\n",
    "\n",
    "def coroutine(func):\n",
    "    @wraps(func)\n",
    "    def inner(*args:tuple[Any, ...], **kwargs: dict[str, Any]) -> Generator:\n",
    "        fn: Generator = func(*args, **kwargs)\n",
    "        next(fn)\n",
    "        return fn\n",
    "\n",
    "    return inner\n",
    "\n",
    "\n",
    "def extract(batch: Generator) -> None:\n",
    "    \"\"\" Retrieves rows from the database and passes them to the generator\n",
    "    Args:\n",
    "        batch: the generator function to which we pass the value\n",
    "    \"\"\"\n",
    "\n",
    "    dbs: Dict = dict(dbname='demo', user='sergei', password='sergei', host='localhost')\n",
    "    with psycopg2.connect(**dbs) as connection:\n",
    "        with connection.cursor(cursor_factory=DictCursor) as cursor:\n",
    "            cursor.execute(SQL)\n",
    "            record = cursor.fetchone() # you can use fetchmany to fetch data \"in batches\"\n",
    "            while record:\n",
    "                batch.send(record) # make sure the argument is an iterable\n",
    "                record = cursor.fetchone()\n",
    "\n",
    "\n",
    "@coroutine\n",
    "def transform(batch: Generator) -> Generator[None, DictRow, None]:\n",
    "\n",
    "    foo: int | str # instruction for mypy\n",
    "\n",
    "    while record := (yield):\n",
    "\n",
    "        new_number = record[\"number\"] ** 2\n",
    "        if record[\"number\"] % 2 == 0:\n",
    "            foo = \"an even number\"\n",
    "        elif record[\"number\"] == 3:\n",
    "            print(\"skip load stage\")\n",
    "            continue\n",
    "        else:\n",
    "            foo = 0\n",
    "\n",
    "        batch.send((new_number, foo))\n",
    "\n",
    "\n",
    "@coroutine\n",
    "def load() -> Generator[None, Tuple, None]:\n",
    "    while subject := (yield):\n",
    "        match subject:\n",
    "            case (int(number), str(bar)):\n",
    "                print(\"the square of\", bar, number)\n",
    "            case (int(number), int(bar)):\n",
    "                print(number)\n",
    "            case _:\n",
    "                raise SyntaxError(f\"Unknown structure of {subject=}\")"
   ]
  },
  {
   "cell_type": "code",
   "execution_count": null,
   "metadata": {},
   "outputs": [],
   "source": [
    "unloads = load()\n",
    "multiplication = transform(unloads)\n",
    "extract(multiplication)"
   ]
  }
 ],
 "metadata": {
  "kernelspec": {
   "display_name": "Python 3",
   "language": "python",
   "name": "python3"
  },
  "language_info": {
   "codemirror_mode": {
    "name": "ipython",
    "version": 3
   },
   "file_extension": ".py",
   "mimetype": "text/x-python",
   "name": "python",
   "nbconvert_exporter": "python",
   "pygments_lexer": "ipython3",
   "version": "3.9.13"
  },
  "orig_nbformat": 4,
  "vscode": {
   "interpreter": {
    "hash": "425e6f8b25506f1197abf96da7ff3b81109bcb7eca25eea5e9075a0d6b93f442"
   }
  }
 },
 "nbformat": 4,
 "nbformat_minor": 2
}
