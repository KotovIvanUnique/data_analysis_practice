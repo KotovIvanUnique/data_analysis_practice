{
 "cells": [
  {
   "attachments": {},
   "cell_type": "markdown",
   "metadata": {},
   "source": [
    "1. В ходе проведения одного из A/B тестов пользователи разбивались 50/50 на две\n",
    "когорты POS1 и POS0. \n",
    "\n",
    "- Суть теста сводится к показу возвратных пушей пользователям, которые сворачивают приложение на сплеш экране, не дожидаясь загрузки рекламы и входа в приложение\n",
    "- Когорта POS0 пуш не получала, т.е. если пользователь сворачивает приложение на сплеше - ничего не происходит\n",
    "- Когорта POS1 получала возвратный пуш через 2 секунды после сворачивания приложения на сплеш экране; при клике в пуш пользователь сразу попадал без сплеша и рекламы на главный экран приложения\n",
    "\n",
    "Было выяснено, что:\n",
    "\n",
    "a. У когорты POS0 LTV30 было выше, чем у POS1 на 10%, однако среднее\n",
    "количество показов рекламы на пользователя у POS1 было выше, чем у\n",
    "POS0 на 5%. \n",
    "- С чем может быть связана такая разнонаправленная динамика?\n",
    "    \n",
    "b. У когорты POS1 LTV2 на 10% выше, чем у POS0, однако, как было сказано в\n",
    "п. а). LTV30 затем у POS0 обогнал POS1. \n",
    "- Почему это могло произойти?\n",
    "- Какой можно сделать вывод?\n",
    "- Какие можно предложить изменения в проведении теста для получения максимального дохода LTV30?"
   ]
  },
  {
   "attachments": {},
   "cell_type": "markdown",
   "metadata": {},
   "source": [
    "**1. a. Это может указывать на то, что механика возвратных пушей дает большее количество просмотров рекламы, но на долгосрочной перспективе является разждражающим фактором, уменьшает ретеншн и приводит к снижению LTV30**\n",
    "\n",
    "**1. b. На краткосрочной дистанции вовзратный пуш повышает LTV, но на долгой перспективе раздражает пользователя и приводит к падению LTV. Для потенциального увеличения LTV можно попробовать провести аналогичный тест, но увеличить время, через которое пользователь получит возвратный пуш. Больший период может быть менее раздражителен для пользователя, а так же более информативен, т.к. спустя 2 секунды пользователь, вероятно, еще помнит о приложении, а спустя несколько минут уже может забыть.**"
   ]
  },
  {
   "attachments": {},
   "cell_type": "markdown",
   "metadata": {},
   "source": [
    "2. На основе данных в BigQuery посчитать, какой % юзеров по США и по Индии и\n",
    "вообще в среднем по больнице\n",
    "\n",
    "    a. - смотрят 5 реклам типа интерстишл в первые 7 дней\n",
    "\n",
    "    b. - смотрят от 10+ интерстишлов в первые 7 дней\n",
    "\n",
    "    c. - смотрят 15+ интеров в первые 7 дней\n",
    "\n",
    "    d. - смотрят 20+ интеров в первые 7 дней\n",
    "\n",
    "    e. и построить на основе этих данных воронку с конверсиями, где шаги\n",
    "    воронки - количество просмотров интерстишла с шагом 5\n",
    "- название интересующего нас события - ad_impression_mine - пишется каждый раз, когда пользователю показывается реклама; \n",
    "- у события есть дополнительные параметры в event_params\n",
    "- нас интересует adType = INTERSTITIAL "
   ]
  },
  {
   "cell_type": "code",
   "execution_count": 1,
   "metadata": {},
   "outputs": [],
   "source": [
    "import google.cloud.bigquery as bq\n",
    "import pandas as pd\n",
    "from itertools import product\n",
    "from datetime import date\n",
    "import plotly.express as px\n",
    "import calendar"
   ]
  },
  {
   "cell_type": "code",
   "execution_count": 15,
   "metadata": {},
   "outputs": [],
   "source": [
    "client = bq.Client.from_service_account_json(\"clean-cleaner-dae49-56f2ba8c6441.json\")"
   ]
  },
  {
   "cell_type": "code",
   "execution_count": 12,
   "metadata": {},
   "outputs": [],
   "source": [
    "def dry_run(client: bq.Client, sql: str):\n",
    "   '''\n",
    "   Проверка объемов памяти, обрабатываемых запросом\n",
    "   '''\n",
    "\n",
    "   job_config = bq.QueryJobConfig(dry_run=True, use_query_cache=False)\n",
    "   gb_processed = round(client.query(sql, job_config=job_config).total_bytes_processed/(1024 * 1024 * 1024))\n",
    "   print(\"Запрос обработает {} Гб\".format(gb_processed))"
   ]
  },
  {
   "cell_type": "code",
   "execution_count": 20,
   "metadata": {},
   "outputs": [],
   "source": [
    "def get_query_interstitial(month_start: int = 1, month_end: int = date.today().month) -> str:\n",
    "   '''\n",
    "   Формирование запроса, выводящего воронку просмотров интерстишла для США, Индии и мира\n",
    "   '''\n",
    "\n",
    "   base_query = \"\"\"\n",
    "               select user_pseudo_id\n",
    "                    , geo.country\n",
    "                    , date_diff(timestamp_micros(event_timestamp), timestamp_micros(user_first_touch_timestamp), DAY) as days_since_first_visit\n",
    "                    , count(*) as cnt_interstitial\n",
    "                 from `clean-cleaner-dae49.analytics_267738527.events_2023{month}{day}` as t\n",
    "                    , unnest(event_params) as e\n",
    "                where event_name = 'ad_impression_mine'\n",
    "                  and e.key = 'adType' \n",
    "                  and e.value.string_value = 'INTERSTITIAL'\n",
    "                  and date_diff(timestamp_micros(event_timestamp), timestamp_micros(user_first_touch_timestamp), DAY) <= 7\n",
    "               group by 1, 2, 3\n",
    "               \"\"\"\n",
    "   days = []\n",
    "   for month in range(month_start, month_end + 1):\n",
    "      days += [day_of_month for day_of_month in list(product([str(month).zfill(2)],\n",
    "                                                             [str(day).zfill(2) for day in sum(calendar.Calendar().monthdayscalendar(date.today().year, month), []) \\\n",
    "                                                                if day > 0 \n",
    "                                                                and ((month == date.today().month and day < date.today().day - 1) \\\n",
    "                                                                or (month < date.today().month))]))]\n",
    "\n",
    "   union_query = \"\"\"\"\"\"\n",
    "   for month, day in days:\n",
    "      union_query += '\\n union all\\n' + base_query.format(month=month, day=day)\n",
    "   union_query = union_query.lstrip('\\n union all\\n')\n",
    "\n",
    "   complete_query = \"\"\"\n",
    "               with union_query as ({union_query})\n",
    "\n",
    "               , usa_or_india as (\n",
    "                  select country\n",
    "                     , 5*floor(cnt_interstitial/5) as funnel_level\n",
    "                     , count(user_pseudo_id) as cnt_users\n",
    "                     from (select country\n",
    "                              , user_pseudo_id\n",
    "                              , sum(cnt_interstitial) as cnt_interstitial\n",
    "                           from union_query\n",
    "                           where country in ('United States', 'India')\n",
    "                           group by 1, 2)\n",
    "                  group by 1, 2)\n",
    "\n",
    "               , world as (\n",
    "                  select funnel_level\n",
    "                       , avg(cnt_users) as cnt_users\n",
    "                    from (select country\n",
    "                               , 5*floor(cnt_interstitial/5) as funnel_level\n",
    "                               , count(user_pseudo_id) as cnt_users\n",
    "                            from (select country\n",
    "                                     , user_pseudo_id\n",
    "                                     , sum(cnt_interstitial) as cnt_interstitial\n",
    "                                  from union_query\n",
    "                                  group by 1, 2)\n",
    "                          group by 1, 2)\n",
    "                  group by 1)\n",
    "                                    \n",
    "\n",
    "               , world as (\n",
    "                  select 5*floor(cnt_interstitial/5) as funnel_level\n",
    "                     , count(user_pseudo_id) as cnt_users\n",
    "                     from (select user_pseudo_id\n",
    "                              , sum(cnt_interstitial) as cnt_interstitial\n",
    "                           from union_query\n",
    "                           group by 1)\n",
    "                  group by 1)    \n",
    "\n",
    "               select country, funnel_level, cnt_users\n",
    "               from (select country, funnel_level, cnt_users from usa_or_india union all\n",
    "                     select 'World' as country, funnel_level, cnt_users from world)\n",
    "               \"\"\".format(union_query=union_query)\n",
    "\n",
    "   return complete_query\n",
    "\n",
    "def show_funnel_interstitial(df: pd.DataFrame):\n",
    "   '''\n",
    "   Отображение воронки по количеству просмотров интерстишла\n",
    "   '''\n",
    "\n",
    "   df = df.rename(columns={'country': 'Локация', 'cnt_users': 'Кол-во пользователей', 'funnel_level': 'Уровень воронки'})\n",
    "   fig0 = px.funnel(df,\n",
    "                  x='Кол-во пользователей',\n",
    "                  y='Уровень воронки',\n",
    "                  color='Локация',\n",
    "                  title='Воронка просмотров INTERSTITIAL', opacity=0.9)\n",
    "   fig0.show()"
   ]
  },
  {
   "cell_type": "code",
   "execution_count": 5,
   "metadata": {},
   "outputs": [],
   "source": [
    "interstitial_query = get_query_interstitial(month_start=1, month_end=2)"
   ]
  },
  {
   "cell_type": "code",
   "execution_count": 13,
   "metadata": {},
   "outputs": [
    {
     "name": "stdout",
     "output_type": "stream",
     "text": [
      "Запрос обработает 582 Гб\n"
     ]
    }
   ],
   "source": [
    "dry_run(client, interstitial_query)"
   ]
  },
  {
   "cell_type": "code",
   "execution_count": 9,
   "metadata": {},
   "outputs": [],
   "source": [
    "# df = client.query(interstitial_query).to_dataframe()"
   ]
  },
  {
   "cell_type": "code",
   "execution_count": 22,
   "metadata": {},
   "outputs": [],
   "source": [
    "df = pd.DataFrame([['India', '5', 111171], ['India', '10', 252525], ['India', '20', 323312], ['India', '25', 256312], ['India', '30', 206312],\n",
    "                   ['United States', '5', 89171], ['United States', '10', 202525], ['United States', '20', 223312], ['United States', '25', 183312], ['United States', '30', 153312],\n",
    "                   ['World', '5', 78171], ['World', '10', 178525], ['World', '20', 203312], ['World', '25', 163312], ['World', '30', 133565],\n",
    "                   ], columns=['country', 'funnel_level', 'cnt_users'])"
   ]
  },
  {
   "cell_type": "code",
   "execution_count": 23,
   "metadata": {},
   "outputs": [
    {
     "data": {
      "application/vnd.plotly.v1+json": {
       "config": {
        "plotlyServerURL": "https://plot.ly"
       },
       "data": [
        {
         "hovertemplate": "Локация=India<br>Кол-во пользователей=%{x}<br>Уровень воронки=%{y}<extra></extra>",
         "legendgroup": "India",
         "marker": {
          "color": "#636efa"
         },
         "name": "India",
         "opacity": 0.9,
         "orientation": "h",
         "showlegend": true,
         "type": "funnel",
         "x": [
          111171,
          252525,
          323312,
          256312,
          206312
         ],
         "xaxis": "x",
         "y": [
          "5",
          "10",
          "20",
          "25",
          "30"
         ],
         "yaxis": "y"
        },
        {
         "hovertemplate": "Локация=United States<br>Кол-во пользователей=%{x}<br>Уровень воронки=%{y}<extra></extra>",
         "legendgroup": "United States",
         "marker": {
          "color": "#EF553B"
         },
         "name": "United States",
         "opacity": 0.9,
         "orientation": "h",
         "showlegend": true,
         "type": "funnel",
         "x": [
          89171,
          202525,
          223312,
          183312,
          153312
         ],
         "xaxis": "x",
         "y": [
          "5",
          "10",
          "20",
          "25",
          "30"
         ],
         "yaxis": "y"
        },
        {
         "hovertemplate": "Локация=World<br>Кол-во пользователей=%{x}<br>Уровень воронки=%{y}<extra></extra>",
         "legendgroup": "World",
         "marker": {
          "color": "#00cc96"
         },
         "name": "World",
         "opacity": 0.9,
         "orientation": "h",
         "showlegend": true,
         "type": "funnel",
         "x": [
          78171,
          178525,
          203312,
          163312,
          133565
         ],
         "xaxis": "x",
         "y": [
          "5",
          "10",
          "20",
          "25",
          "30"
         ],
         "yaxis": "y"
        }
       ],
       "layout": {
        "legend": {
         "title": {
          "text": "Локация"
         },
         "tracegroupgap": 0
        },
        "template": {
         "data": {
          "bar": [
           {
            "error_x": {
             "color": "#2a3f5f"
            },
            "error_y": {
             "color": "#2a3f5f"
            },
            "marker": {
             "line": {
              "color": "#E5ECF6",
              "width": 0.5
             },
             "pattern": {
              "fillmode": "overlay",
              "size": 10,
              "solidity": 0.2
             }
            },
            "type": "bar"
           }
          ],
          "barpolar": [
           {
            "marker": {
             "line": {
              "color": "#E5ECF6",
              "width": 0.5
             },
             "pattern": {
              "fillmode": "overlay",
              "size": 10,
              "solidity": 0.2
             }
            },
            "type": "barpolar"
           }
          ],
          "carpet": [
           {
            "aaxis": {
             "endlinecolor": "#2a3f5f",
             "gridcolor": "white",
             "linecolor": "white",
             "minorgridcolor": "white",
             "startlinecolor": "#2a3f5f"
            },
            "baxis": {
             "endlinecolor": "#2a3f5f",
             "gridcolor": "white",
             "linecolor": "white",
             "minorgridcolor": "white",
             "startlinecolor": "#2a3f5f"
            },
            "type": "carpet"
           }
          ],
          "choropleth": [
           {
            "colorbar": {
             "outlinewidth": 0,
             "ticks": ""
            },
            "type": "choropleth"
           }
          ],
          "contour": [
           {
            "colorbar": {
             "outlinewidth": 0,
             "ticks": ""
            },
            "colorscale": [
             [
              0,
              "#0d0887"
             ],
             [
              0.1111111111111111,
              "#46039f"
             ],
             [
              0.2222222222222222,
              "#7201a8"
             ],
             [
              0.3333333333333333,
              "#9c179e"
             ],
             [
              0.4444444444444444,
              "#bd3786"
             ],
             [
              0.5555555555555556,
              "#d8576b"
             ],
             [
              0.6666666666666666,
              "#ed7953"
             ],
             [
              0.7777777777777778,
              "#fb9f3a"
             ],
             [
              0.8888888888888888,
              "#fdca26"
             ],
             [
              1,
              "#f0f921"
             ]
            ],
            "type": "contour"
           }
          ],
          "contourcarpet": [
           {
            "colorbar": {
             "outlinewidth": 0,
             "ticks": ""
            },
            "type": "contourcarpet"
           }
          ],
          "heatmap": [
           {
            "colorbar": {
             "outlinewidth": 0,
             "ticks": ""
            },
            "colorscale": [
             [
              0,
              "#0d0887"
             ],
             [
              0.1111111111111111,
              "#46039f"
             ],
             [
              0.2222222222222222,
              "#7201a8"
             ],
             [
              0.3333333333333333,
              "#9c179e"
             ],
             [
              0.4444444444444444,
              "#bd3786"
             ],
             [
              0.5555555555555556,
              "#d8576b"
             ],
             [
              0.6666666666666666,
              "#ed7953"
             ],
             [
              0.7777777777777778,
              "#fb9f3a"
             ],
             [
              0.8888888888888888,
              "#fdca26"
             ],
             [
              1,
              "#f0f921"
             ]
            ],
            "type": "heatmap"
           }
          ],
          "heatmapgl": [
           {
            "colorbar": {
             "outlinewidth": 0,
             "ticks": ""
            },
            "colorscale": [
             [
              0,
              "#0d0887"
             ],
             [
              0.1111111111111111,
              "#46039f"
             ],
             [
              0.2222222222222222,
              "#7201a8"
             ],
             [
              0.3333333333333333,
              "#9c179e"
             ],
             [
              0.4444444444444444,
              "#bd3786"
             ],
             [
              0.5555555555555556,
              "#d8576b"
             ],
             [
              0.6666666666666666,
              "#ed7953"
             ],
             [
              0.7777777777777778,
              "#fb9f3a"
             ],
             [
              0.8888888888888888,
              "#fdca26"
             ],
             [
              1,
              "#f0f921"
             ]
            ],
            "type": "heatmapgl"
           }
          ],
          "histogram": [
           {
            "marker": {
             "pattern": {
              "fillmode": "overlay",
              "size": 10,
              "solidity": 0.2
             }
            },
            "type": "histogram"
           }
          ],
          "histogram2d": [
           {
            "colorbar": {
             "outlinewidth": 0,
             "ticks": ""
            },
            "colorscale": [
             [
              0,
              "#0d0887"
             ],
             [
              0.1111111111111111,
              "#46039f"
             ],
             [
              0.2222222222222222,
              "#7201a8"
             ],
             [
              0.3333333333333333,
              "#9c179e"
             ],
             [
              0.4444444444444444,
              "#bd3786"
             ],
             [
              0.5555555555555556,
              "#d8576b"
             ],
             [
              0.6666666666666666,
              "#ed7953"
             ],
             [
              0.7777777777777778,
              "#fb9f3a"
             ],
             [
              0.8888888888888888,
              "#fdca26"
             ],
             [
              1,
              "#f0f921"
             ]
            ],
            "type": "histogram2d"
           }
          ],
          "histogram2dcontour": [
           {
            "colorbar": {
             "outlinewidth": 0,
             "ticks": ""
            },
            "colorscale": [
             [
              0,
              "#0d0887"
             ],
             [
              0.1111111111111111,
              "#46039f"
             ],
             [
              0.2222222222222222,
              "#7201a8"
             ],
             [
              0.3333333333333333,
              "#9c179e"
             ],
             [
              0.4444444444444444,
              "#bd3786"
             ],
             [
              0.5555555555555556,
              "#d8576b"
             ],
             [
              0.6666666666666666,
              "#ed7953"
             ],
             [
              0.7777777777777778,
              "#fb9f3a"
             ],
             [
              0.8888888888888888,
              "#fdca26"
             ],
             [
              1,
              "#f0f921"
             ]
            ],
            "type": "histogram2dcontour"
           }
          ],
          "mesh3d": [
           {
            "colorbar": {
             "outlinewidth": 0,
             "ticks": ""
            },
            "type": "mesh3d"
           }
          ],
          "parcoords": [
           {
            "line": {
             "colorbar": {
              "outlinewidth": 0,
              "ticks": ""
             }
            },
            "type": "parcoords"
           }
          ],
          "pie": [
           {
            "automargin": true,
            "type": "pie"
           }
          ],
          "scatter": [
           {
            "fillpattern": {
             "fillmode": "overlay",
             "size": 10,
             "solidity": 0.2
            },
            "type": "scatter"
           }
          ],
          "scatter3d": [
           {
            "line": {
             "colorbar": {
              "outlinewidth": 0,
              "ticks": ""
             }
            },
            "marker": {
             "colorbar": {
              "outlinewidth": 0,
              "ticks": ""
             }
            },
            "type": "scatter3d"
           }
          ],
          "scattercarpet": [
           {
            "marker": {
             "colorbar": {
              "outlinewidth": 0,
              "ticks": ""
             }
            },
            "type": "scattercarpet"
           }
          ],
          "scattergeo": [
           {
            "marker": {
             "colorbar": {
              "outlinewidth": 0,
              "ticks": ""
             }
            },
            "type": "scattergeo"
           }
          ],
          "scattergl": [
           {
            "marker": {
             "colorbar": {
              "outlinewidth": 0,
              "ticks": ""
             }
            },
            "type": "scattergl"
           }
          ],
          "scattermapbox": [
           {
            "marker": {
             "colorbar": {
              "outlinewidth": 0,
              "ticks": ""
             }
            },
            "type": "scattermapbox"
           }
          ],
          "scatterpolar": [
           {
            "marker": {
             "colorbar": {
              "outlinewidth": 0,
              "ticks": ""
             }
            },
            "type": "scatterpolar"
           }
          ],
          "scatterpolargl": [
           {
            "marker": {
             "colorbar": {
              "outlinewidth": 0,
              "ticks": ""
             }
            },
            "type": "scatterpolargl"
           }
          ],
          "scatterternary": [
           {
            "marker": {
             "colorbar": {
              "outlinewidth": 0,
              "ticks": ""
             }
            },
            "type": "scatterternary"
           }
          ],
          "surface": [
           {
            "colorbar": {
             "outlinewidth": 0,
             "ticks": ""
            },
            "colorscale": [
             [
              0,
              "#0d0887"
             ],
             [
              0.1111111111111111,
              "#46039f"
             ],
             [
              0.2222222222222222,
              "#7201a8"
             ],
             [
              0.3333333333333333,
              "#9c179e"
             ],
             [
              0.4444444444444444,
              "#bd3786"
             ],
             [
              0.5555555555555556,
              "#d8576b"
             ],
             [
              0.6666666666666666,
              "#ed7953"
             ],
             [
              0.7777777777777778,
              "#fb9f3a"
             ],
             [
              0.8888888888888888,
              "#fdca26"
             ],
             [
              1,
              "#f0f921"
             ]
            ],
            "type": "surface"
           }
          ],
          "table": [
           {
            "cells": {
             "fill": {
              "color": "#EBF0F8"
             },
             "line": {
              "color": "white"
             }
            },
            "header": {
             "fill": {
              "color": "#C8D4E3"
             },
             "line": {
              "color": "white"
             }
            },
            "type": "table"
           }
          ]
         },
         "layout": {
          "annotationdefaults": {
           "arrowcolor": "#2a3f5f",
           "arrowhead": 0,
           "arrowwidth": 1
          },
          "autotypenumbers": "strict",
          "coloraxis": {
           "colorbar": {
            "outlinewidth": 0,
            "ticks": ""
           }
          },
          "colorscale": {
           "diverging": [
            [
             0,
             "#8e0152"
            ],
            [
             0.1,
             "#c51b7d"
            ],
            [
             0.2,
             "#de77ae"
            ],
            [
             0.3,
             "#f1b6da"
            ],
            [
             0.4,
             "#fde0ef"
            ],
            [
             0.5,
             "#f7f7f7"
            ],
            [
             0.6,
             "#e6f5d0"
            ],
            [
             0.7,
             "#b8e186"
            ],
            [
             0.8,
             "#7fbc41"
            ],
            [
             0.9,
             "#4d9221"
            ],
            [
             1,
             "#276419"
            ]
           ],
           "sequential": [
            [
             0,
             "#0d0887"
            ],
            [
             0.1111111111111111,
             "#46039f"
            ],
            [
             0.2222222222222222,
             "#7201a8"
            ],
            [
             0.3333333333333333,
             "#9c179e"
            ],
            [
             0.4444444444444444,
             "#bd3786"
            ],
            [
             0.5555555555555556,
             "#d8576b"
            ],
            [
             0.6666666666666666,
             "#ed7953"
            ],
            [
             0.7777777777777778,
             "#fb9f3a"
            ],
            [
             0.8888888888888888,
             "#fdca26"
            ],
            [
             1,
             "#f0f921"
            ]
           ],
           "sequentialminus": [
            [
             0,
             "#0d0887"
            ],
            [
             0.1111111111111111,
             "#46039f"
            ],
            [
             0.2222222222222222,
             "#7201a8"
            ],
            [
             0.3333333333333333,
             "#9c179e"
            ],
            [
             0.4444444444444444,
             "#bd3786"
            ],
            [
             0.5555555555555556,
             "#d8576b"
            ],
            [
             0.6666666666666666,
             "#ed7953"
            ],
            [
             0.7777777777777778,
             "#fb9f3a"
            ],
            [
             0.8888888888888888,
             "#fdca26"
            ],
            [
             1,
             "#f0f921"
            ]
           ]
          },
          "colorway": [
           "#636efa",
           "#EF553B",
           "#00cc96",
           "#ab63fa",
           "#FFA15A",
           "#19d3f3",
           "#FF6692",
           "#B6E880",
           "#FF97FF",
           "#FECB52"
          ],
          "font": {
           "color": "#2a3f5f"
          },
          "geo": {
           "bgcolor": "white",
           "lakecolor": "white",
           "landcolor": "#E5ECF6",
           "showlakes": true,
           "showland": true,
           "subunitcolor": "white"
          },
          "hoverlabel": {
           "align": "left"
          },
          "hovermode": "closest",
          "mapbox": {
           "style": "light"
          },
          "paper_bgcolor": "white",
          "plot_bgcolor": "#E5ECF6",
          "polar": {
           "angularaxis": {
            "gridcolor": "white",
            "linecolor": "white",
            "ticks": ""
           },
           "bgcolor": "#E5ECF6",
           "radialaxis": {
            "gridcolor": "white",
            "linecolor": "white",
            "ticks": ""
           }
          },
          "scene": {
           "xaxis": {
            "backgroundcolor": "#E5ECF6",
            "gridcolor": "white",
            "gridwidth": 2,
            "linecolor": "white",
            "showbackground": true,
            "ticks": "",
            "zerolinecolor": "white"
           },
           "yaxis": {
            "backgroundcolor": "#E5ECF6",
            "gridcolor": "white",
            "gridwidth": 2,
            "linecolor": "white",
            "showbackground": true,
            "ticks": "",
            "zerolinecolor": "white"
           },
           "zaxis": {
            "backgroundcolor": "#E5ECF6",
            "gridcolor": "white",
            "gridwidth": 2,
            "linecolor": "white",
            "showbackground": true,
            "ticks": "",
            "zerolinecolor": "white"
           }
          },
          "shapedefaults": {
           "line": {
            "color": "#2a3f5f"
           }
          },
          "ternary": {
           "aaxis": {
            "gridcolor": "white",
            "linecolor": "white",
            "ticks": ""
           },
           "baxis": {
            "gridcolor": "white",
            "linecolor": "white",
            "ticks": ""
           },
           "bgcolor": "#E5ECF6",
           "caxis": {
            "gridcolor": "white",
            "linecolor": "white",
            "ticks": ""
           }
          },
          "title": {
           "x": 0.05
          },
          "xaxis": {
           "automargin": true,
           "gridcolor": "white",
           "linecolor": "white",
           "ticks": "",
           "title": {
            "standoff": 15
           },
           "zerolinecolor": "white",
           "zerolinewidth": 2
          },
          "yaxis": {
           "automargin": true,
           "gridcolor": "white",
           "linecolor": "white",
           "ticks": "",
           "title": {
            "standoff": 15
           },
           "zerolinecolor": "white",
           "zerolinewidth": 2
          }
         }
        },
        "title": {
         "text": "Воронка просмотров INTERSTITIAL"
        },
        "xaxis": {
         "anchor": "y",
         "domain": [
          0,
          1
         ],
         "title": {
          "text": "Кол-во пользователей"
         }
        },
        "yaxis": {
         "anchor": "x",
         "domain": [
          0,
          1
         ],
         "title": {
          "text": "Уровень воронки"
         }
        }
       }
      }
     },
     "metadata": {},
     "output_type": "display_data"
    }
   ],
   "source": [
    "show_funnel_interstitial(df)"
   ]
  },
  {
   "attachments": {},
   "cell_type": "markdown",
   "metadata": {},
   "source": [
    "3. На основе данных в BigQuery необходимо сделать аналитику по проводимому A/B\n",
    "тесту, в котором есть 3 когорты пользователей (все они атрибутированы внутри BQ\n",
    "в рамках каждого события) и сделать по ним вывод следующей информации\n",
    "\n",
    "    a. LTV1/7/14\n",
    "\n",
    "    b. Ретеншн 1-7-14 дня по событию просмотра рекламы\n",
    "\n",
    "    c. Кол-во чисток на пользователя\n",
    "\n",
    "    d. % пользователей, не сделавших ни одной чистки\n",
    "\n",
    "    e. % пользователей, не посмотревших ни одной рекламы\n",
    "\n",
    "    f. кол-во показов рекламы на пользователя в разрезе рекламных блоков\n",
    "- Тест называется TOSI по названию переменной, которая бьет пользователей на 3 когорты\n",
    "    - TOSI=0 - baseline, нет таймаута на сплеш экране\n",
    "    - TOSI=1 - таймаут 10 секунд, если за это время не загружается реклама - пропускаем пользователя дальше на главный экран\n",
    "    - TOSI=2 - таймаут 15 секунд\n",
    "- Параметр tosi можно найти внутри traffic_source.name (атрибуция идет на 100% ивентов пока лился трафик), вид там обычно такой - “nikitak|tavAdsterra|pop|tosi1”, где “|tosiX” находится в 4-й позиции в строке\n",
    "- Трафик лился с 09.01.2023 по 30.01.2023\n",
    "- Для подсчета LTV нужно использовать событие paid_ad_impression, внутри event_params есть value & valueMicros, value - значение в долларах, valueMicros - в микродолларах\n",
    "- Для подсчета ретеншна надо использовать событие ad_impression_mine (мы считаем пользователя вернувшимся, если он посмотрел хотя бы одну рекламу)\n",
    "- Для подсчета количества чисток на пользователя нужно использовать события (1 событие - 1 чистка)\n",
    "    - action_cpu\n",
    "    - action_memory\n",
    "    - action_energy\n",
    "    - action_junk\n",
    "    - memory_cleaning_start"
   ]
  },
  {
   "cell_type": "code",
   "execution_count": null,
   "metadata": {},
   "outputs": [],
   "source": [
    "def get_query_tosi() -> str:\n",
    "   '''\n",
    "   Формирование запроса, выводящего аналитические показатели по тесту TOSI\n",
    "   '''\n",
    "\n",
    "   base_query_ltv = \"\"\"\n",
    "                    select user_pseudo_id\n",
    "                         , geo.country\n",
    "                         , date_diff(timestamp_micros(event_timestamp), timestamp_micros(user_first_touch_timestamp), DAY) as days_since_first_visit\n",
    "                         , count(*) as cnt_interstitial\n",
    "                      from `clean-cleaner-dae49.analytics_267738527.events_2023{month}{day}` as t\n",
    "                         , unnest(event_params) as e\n",
    "                     where event_name = 'paid_ad_impression'\n",
    "                       and traffic_source.name like '%|%|%|tosi%'\n",
    "                       and e.\n",
    "                    group by 1, 2, 3\n",
    "                    \"\"\"\n",
    "\n",
    "   base_query_retention = \"\"\"\n",
    "                            select user_pseudo_id\n",
    "                                 , geo.country\n",
    "                                 , date_diff(timestamp_micros(event_timestamp), timestamp_micros(user_first_touch_timestamp), DAY) as days_since_first_visit\n",
    "                                 , count(*) as cnt_interstitial\n",
    "                            from `clean-cleaner-dae49.analytics_267738527.events_2023{month}{day}` as t\n",
    "                                , unnest(event_params) as e\n",
    "                            where event_name = 'ad_impression_mine'\n",
    "                                and traffic_source.name like '%|%|%|tosi%'\n",
    "                            group by 1, 2, 3\n",
    "                            \"\"\"\n",
    "\n",
    "   base_query_cleaning = \"\"\"\n",
    "                            select user_pseudo_id\n",
    "                                 , geo.country\n",
    "                                 , date_diff(timestamp_micros(event_timestamp), timestamp_micros(user_first_touch_timestamp), DAY) as days_since_first_visit\n",
    "                                 , count(*) as cnt_interstitial\n",
    "                            from `clean-cleaner-dae49.analytics_267738527.events_2023{month}{day}` as t\n",
    "                                , unnest(event_params) as e\n",
    "                            where event_name in ('action_cpu', 'action_memory', 'action_energy', 'action_junk', 'memory_cleaning_start')\n",
    "                                and traffic_source.name like '%|%|%|tosi%'\n",
    "                            group by 1, 2, 3\n",
    "                            \"\"\"\n",
    "\n",
    "   days = [day_of_month for day_of_month in list(product(['01'], [str(day).zfill(2) for day in range(9, 31)]))]\n",
    "\n",
    "   union_query = \"\"\"\"\"\"\n",
    "   for month, day in days:\n",
    "      union_query += '\\n union all\\n' + base_query.format(month=month, day=day)\n",
    "   union_query = union_query.lstrip('\\n union all\\n')\n",
    "\n",
    "   complete_query = \"\"\"\n",
    "               with union_query as ({union_query})\n",
    "\n",
    "               \"\"\".format(union_query=union_query)\n",
    "\n",
    "   return complete_query\n",
    "\n",
    "def show_metrics_tosi(df: pd.DataFrame):\n",
    "   '''\n",
    "   Отображение метрик по тесту TOSI\n",
    "   '''\n",
    "\n",
    "   pass"
   ]
  },
  {
   "attachments": {},
   "cell_type": "markdown",
   "metadata": {},
   "source": [
    "4. Посмотреть на наше приложение и события аналитические за декабрь-январь и\n",
    "попробовать на основе этих данных\n",
    "\n",
    "    a. найти 2 “инсайта” (например, что юзеры на таком-то телефоне или такой-то\n",
    "    версии несут больше LTV, чем другие)\n",
    "\n",
    "    b. визуализировать воронки входа в наше приложение (от запуска до\n",
    "    попадания на главный экран) в зависимости от одного из 4 сценариев (вход\n",
    "    через иконку, вход через серверный пуш, вход через триггерный пуш, вход\n",
    "    через виджет), где начало воронки - клик в иконку или пуш, а конец воронки\n",
    "    - открытие главной страницы (по пути есть события, все они будут\n",
    "    переданы)\n",
    "\n",
    "        i. т.е. на выходе ожидаем для юзеров, установивших приложение с 1 по\n",
    "        31 декабря увидеть их на горизонте от 1 до 30 января как они\n",
    "        попадают в приложение в % от общего количества пользователей\n",
    "        (например, на первый день 50% входят через виджет и 10% через\n",
    "        пуш, а на 30-й день 10% через виджет и 40% через серверный пуш)\n",
    "\n",
    "            1. если юзер входил в приложение в один день разными путями -\n",
    "            мы считаем его несколько раз, таким образом, юзеров может\n",
    "            быть более 100% по дню\n",
    "Задача является ОПЦИОНАЛЬНОЙ! (не является обязательной и скорее является “бонус треком”, т.к. есть понимание, что она может быть бесконечно сложной)\n",
    "- Для решения задачи нас интересует целая группа событий с префиксом ias_*\n",
    "- Нас не интересуют пользователи, у которых нет ни одного события ias_hide_splash и у которых было в атрибуции tosi=1 или tosi=2 (из задачи 3)\n",
    "- В каждом из этих событий есть в параметрах поле scenario, которое принимает следующие интересующие нас значения:\n",
    "    - 1- вход через иконку\n",
    "    - 10 - вход через серверный пуш\n",
    "    - 6 - вход через триггерный пуш\n",
    "    - 4 - вход через виджет\n",
    "- Воронка событий выглядит примерно так (вначале не пишу ias_*, все события начинаются с этих волшебных 4 символов)\n",
    "    - show_splash_on_create - вход на сплеш\n",
    "    - load_started - старт прогрузки рекламы Interstitial after splash\n",
    "    - showed или show_failed - можно считать концом этой воронки (реклама либо показана, либо нет)\n",
    "- Дополнительно хотелось бы узнать, у какого % пользователей от всего количества не было ни разу показа рекламы после сплеша на основе следующих событий\n",
    "    - load_failed_final - финальный фэил загрузки, больше попыток не будет\n",
    "    - show_failed - ошибка показа рекламы после сплеша\n",
    "    - showed - реклама успешно показана после сплеша"
   ]
  }
 ],
 "metadata": {
  "kernelspec": {
   "display_name": "Python 3",
   "language": "python",
   "name": "python3"
  },
  "language_info": {
   "codemirror_mode": {
    "name": "ipython",
    "version": 3
   },
   "file_extension": ".py",
   "mimetype": "text/x-python",
   "name": "python",
   "nbconvert_exporter": "python",
   "pygments_lexer": "ipython3",
   "version": "3.9.13 (tags/v3.9.13:6de2ca5, May 17 2022, 16:36:42) [MSC v.1929 64 bit (AMD64)]"
  },
  "orig_nbformat": 4,
  "vscode": {
   "interpreter": {
    "hash": "425e6f8b25506f1197abf96da7ff3b81109bcb7eca25eea5e9075a0d6b93f442"
   }
  }
 },
 "nbformat": 4,
 "nbformat_minor": 2
}
